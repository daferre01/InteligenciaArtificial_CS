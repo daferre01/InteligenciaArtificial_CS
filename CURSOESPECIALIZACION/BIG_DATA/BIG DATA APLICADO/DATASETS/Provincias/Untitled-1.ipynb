{
 "cells": [
  {
   "cell_type": "code",
   "execution_count": 19,
   "metadata": {},
   "outputs": [
    {
     "name": "stdout",
     "output_type": "stream",
     "text": [
      "Vaime levar:4\n",
      "CPU times: total: 0 ns\n",
      "Wall time: 4.01 s\n"
     ]
    }
   ],
   "source": [
    "import time \n",
    "from random import randint\n",
    "\n",
    "def tarefa_pictónica():\n",
    "    tempo=randint(1,10)\n",
    "    print(f'Vaime levar:{tempo}')\n",
    "    time.sleep(tempo)\n",
    "\n",
    "%time tarefa_pictónica()"
   ]
  },
  {
   "cell_type": "code",
   "execution_count": 20,
   "metadata": {},
   "outputs": [
    {
     "name": "stdout",
     "output_type": "stream",
     "text": [
      "HolaMundo\n"
     ]
    }
   ],
   "source": [
    "%run holamundo.py "
   ]
  },
  {
   "cell_type": "code",
   "execution_count": 21,
   "metadata": {},
   "outputs": [
    {
     "name": "stdout",
     "output_type": "stream",
     "text": [
      "HolaMundo\n"
     ]
    }
   ],
   "source": [
    "# %load holamundo.py\n",
    "print(\"HolaMundo\")"
   ]
  },
  {
   "cell_type": "code",
   "execution_count": 22,
   "metadata": {},
   "outputs": [],
   "source": [
    "%edit holamundo.py"
   ]
  },
  {
   "cell_type": "code",
   "execution_count": 23,
   "metadata": {},
   "outputs": [
    {
     "name": "stdout",
     "output_type": "stream",
     "text": [
      "\u001b[1;31mSource:\u001b[0m\n",
      "    \u001b[1;33m@\u001b[0m\u001b[0mline_magic\u001b[0m\u001b[1;33m\n",
      "\u001b[0m    \u001b[1;32mdef\u001b[0m \u001b[0medit\u001b[0m\u001b[1;33m(\u001b[0m\u001b[0mself\u001b[0m\u001b[1;33m,\u001b[0m \u001b[0mparameter_s\u001b[0m\u001b[1;33m=\u001b[0m\u001b[1;34m\"\"\u001b[0m\u001b[1;33m,\u001b[0m \u001b[0mlast_call\u001b[0m\u001b[1;33m=\u001b[0m\u001b[1;32mNone\u001b[0m\u001b[1;33m)\u001b[0m\u001b[1;33m:\u001b[0m\u001b[1;33m\n",
      "\u001b[0m        \u001b[1;34m\"\"\"Bring up an editor and execute the resulting code.\n",
      "\n",
      "        Usage:\n",
      "          %edit [options] [args]\n",
      "\n",
      "        %edit runs an external text editor. You will need to set the command for\n",
      "        this editor via the ``TerminalInteractiveShell.editor`` option in your\n",
      "        configuration file before it will work.\n",
      "\n",
      "        This command allows you to conveniently edit multi-line code right in\n",
      "        your IPython session.\n",
      "\n",
      "        If called without arguments, %edit opens up an empty editor with a\n",
      "        temporary file and will execute the contents of this file when you\n",
      "        close it (don't forget to save it!).\n",
      "\n",
      "        Options:\n",
      "\n",
      "        -n <number>\n",
      "          Open the editor at a specified line number. By default, the IPython\n",
      "          editor hook uses the unix syntax 'editor +N filename', but you can\n",
      "          configure this by providing your own modified hook if your favorite\n",
      "          editor supports line-number specifications with a different syntax.\n",
      "\n",
      "        -p\n",
      "          Call the editor with the same data as the previous time it was used,\n",
      "          regardless of how long ago (in your current session) it was.\n",
      "\n",
      "        -r\n",
      "          Use 'raw' input. This option only applies to input taken from the\n",
      "          user's history.  By default, the 'processed' history is used, so that\n",
      "          magics are loaded in their transformed version to valid Python.  If\n",
      "          this option is given, the raw input as typed as the command line is\n",
      "          used instead.  When you exit the editor, it will be executed by\n",
      "          IPython's own processor.\n",
      "\n",
      "        Arguments:\n",
      "\n",
      "        If arguments are given, the following possibilities exist:\n",
      "\n",
      "        - The arguments are numbers or pairs of colon-separated numbers (like\n",
      "          1 4:8 9). These are interpreted as lines of previous input to be\n",
      "          loaded into the editor. The syntax is the same of the %macro command.\n",
      "\n",
      "        - If the argument doesn't start with a number, it is evaluated as a\n",
      "          variable and its contents loaded into the editor. You can thus edit\n",
      "          any string which contains python code (including the result of\n",
      "          previous edits).\n",
      "\n",
      "        - If the argument is the name of an object (other than a string),\n",
      "          IPython will try to locate the file where it was defined and open the\n",
      "          editor at the point where it is defined. You can use ``%edit function``\n",
      "          to load an editor exactly at the point where 'function' is defined,\n",
      "          edit it and have the file be executed automatically.\n",
      "\n",
      "          If the object is a macro (see %macro for details), this opens up your\n",
      "          specified editor with a temporary file containing the macro's data.\n",
      "          Upon exit, the macro is reloaded with the contents of the file.\n",
      "\n",
      "          Note: opening at an exact line is only supported under Unix, and some\n",
      "          editors (like kedit and gedit up to Gnome 2.8) do not understand the\n",
      "          '+NUMBER' parameter necessary for this feature. Good editors like\n",
      "          (X)Emacs, vi, jed, pico and joe all do.\n",
      "\n",
      "        - If the argument is not found as a variable, IPython will look for a\n",
      "          file with that name (adding .py if necessary) and load it into the\n",
      "          editor. It will execute its contents with execfile() when you exit,\n",
      "          loading any code in the file into your interactive namespace.\n",
      "\n",
      "        Unlike in the terminal, this is designed to use a GUI editor, and we do\n",
      "        not know when it has closed. So the file you edit will not be\n",
      "        automatically executed or printed.\n",
      "\n",
      "        Note that %edit is also available through the alias %ed.\n",
      "        \"\"\"\u001b[0m\u001b[1;33m\n",
      "\u001b[0m        \u001b[0mlast_call\u001b[0m \u001b[1;33m=\u001b[0m \u001b[0mlast_call\u001b[0m \u001b[1;32mor\u001b[0m \u001b[1;33m[\u001b[0m\u001b[1;34m\"\"\u001b[0m\u001b[1;33m,\u001b[0m \u001b[1;34m\"\"\u001b[0m\u001b[1;33m]\u001b[0m\u001b[1;33m\n",
      "\u001b[0m        \u001b[0mopts\u001b[0m\u001b[1;33m,\u001b[0m \u001b[0margs\u001b[0m \u001b[1;33m=\u001b[0m \u001b[0mself\u001b[0m\u001b[1;33m.\u001b[0m\u001b[0mparse_options\u001b[0m\u001b[1;33m(\u001b[0m\u001b[0mparameter_s\u001b[0m\u001b[1;33m,\u001b[0m \u001b[1;34m\"prn:\"\u001b[0m\u001b[1;33m)\u001b[0m\u001b[1;33m\n",
      "\u001b[0m\u001b[1;33m\n",
      "\u001b[0m        \u001b[1;32mtry\u001b[0m\u001b[1;33m:\u001b[0m\u001b[1;33m\n",
      "\u001b[0m            \u001b[0mfilename\u001b[0m\u001b[1;33m,\u001b[0m \u001b[0mlineno\u001b[0m\u001b[1;33m,\u001b[0m \u001b[0m_\u001b[0m \u001b[1;33m=\u001b[0m \u001b[0mCodeMagics\u001b[0m\u001b[1;33m.\u001b[0m\u001b[0m_find_edit_target\u001b[0m\u001b[1;33m(\u001b[0m\u001b[0mself\u001b[0m\u001b[1;33m.\u001b[0m\u001b[0mshell\u001b[0m\u001b[1;33m,\u001b[0m \u001b[0margs\u001b[0m\u001b[1;33m,\u001b[0m \u001b[0mopts\u001b[0m\u001b[1;33m,\u001b[0m \u001b[0mlast_call\u001b[0m\u001b[1;33m)\u001b[0m\u001b[1;33m\n",
      "\u001b[0m        \u001b[1;32mexcept\u001b[0m \u001b[0mMacroToEdit\u001b[0m\u001b[1;33m:\u001b[0m\u001b[1;33m\n",
      "\u001b[0m            \u001b[1;31m# TODO: Implement macro editing over 2 processes.\u001b[0m\u001b[1;33m\n",
      "\u001b[0m            \u001b[0mprint\u001b[0m\u001b[1;33m(\u001b[0m\u001b[1;34m\"Macro editing not yet implemented in 2-process model.\"\u001b[0m\u001b[1;33m)\u001b[0m\u001b[1;33m\n",
      "\u001b[0m            \u001b[1;32mreturn\u001b[0m\u001b[1;33m\n",
      "\u001b[0m\u001b[1;33m\n",
      "\u001b[0m        \u001b[1;31m# Make sure we send to the client an absolute path, in case the working\u001b[0m\u001b[1;33m\n",
      "\u001b[0m        \u001b[1;31m# directory of client and kernel don't match\u001b[0m\u001b[1;33m\n",
      "\u001b[0m        \u001b[0mfilename\u001b[0m \u001b[1;33m=\u001b[0m \u001b[0mos\u001b[0m\u001b[1;33m.\u001b[0m\u001b[0mpath\u001b[0m\u001b[1;33m.\u001b[0m\u001b[0mabspath\u001b[0m\u001b[1;33m(\u001b[0m\u001b[0mfilename\u001b[0m\u001b[1;33m)\u001b[0m\u001b[1;33m\n",
      "\u001b[0m\u001b[1;33m\n",
      "\u001b[0m        \u001b[0mpayload\u001b[0m \u001b[1;33m=\u001b[0m \u001b[1;33m{\u001b[0m\u001b[1;34m\"source\"\u001b[0m\u001b[1;33m:\u001b[0m \u001b[1;34m\"edit_magic\"\u001b[0m\u001b[1;33m,\u001b[0m \u001b[1;34m\"filename\"\u001b[0m\u001b[1;33m:\u001b[0m \u001b[0mfilename\u001b[0m\u001b[1;33m,\u001b[0m \u001b[1;34m\"line_number\"\u001b[0m\u001b[1;33m:\u001b[0m \u001b[0mlineno\u001b[0m\u001b[1;33m}\u001b[0m\u001b[1;33m\n",
      "\u001b[0m        \u001b[1;32massert\u001b[0m \u001b[0mself\u001b[0m\u001b[1;33m.\u001b[0m\u001b[0mshell\u001b[0m \u001b[1;32mis\u001b[0m \u001b[1;32mnot\u001b[0m \u001b[1;32mNone\u001b[0m\u001b[1;33m\n",
      "\u001b[0m        \u001b[0mself\u001b[0m\u001b[1;33m.\u001b[0m\u001b[0mshell\u001b[0m\u001b[1;33m.\u001b[0m\u001b[0mpayload_manager\u001b[0m\u001b[1;33m.\u001b[0m\u001b[0mwrite_payload\u001b[0m\u001b[1;33m(\u001b[0m\u001b[0mpayload\u001b[0m\u001b[1;33m)\u001b[0m\u001b[1;33m\u001b[0m\u001b[1;33m\u001b[0m\u001b[0m\n",
      "\u001b[1;31mFile:\u001b[0m   c:\\users\\david.fernandezrebor\\appdata\\local\\miniconda3\\envs\\bigdata\\lib\\site-packages\\ipykernel\\zmqshell.py"
     ]
    }
   ],
   "source": [
    "%edit??"
   ]
  },
  {
   "cell_type": "code",
   "execution_count": 24,
   "metadata": {},
   "outputs": [
    {
     "name": "stdout",
     "output_type": "stream",
     "text": [
      "\u001b[0mprint\u001b[0m\u001b[1;33m(\u001b[0m\u001b[1;34m\"HolaMundo\"\u001b[0m\u001b[1;33m)\u001b[0m\u001b[1;33m\u001b[0m\u001b[1;33m\u001b[0m\u001b[0m\n"
     ]
    }
   ],
   "source": [
    "%pycat holamundo.py"
   ]
  },
  {
   "cell_type": "code",
   "execution_count": 17,
   "metadata": {},
   "outputs": [
    {
     "name": "stdout",
     "output_type": "stream",
     "text": [
      "Interactive namespace is empty.\n"
     ]
    }
   ],
   "source": [
    "%who"
   ]
  },
  {
   "cell_type": "code",
   "execution_count": 16,
   "metadata": {},
   "outputs": [],
   "source": [
    "%reset"
   ]
  },
  {
   "cell_type": "code",
   "execution_count": 29,
   "metadata": {},
   "outputs": [
    {
     "ename": "OSError",
     "evalue": "[Errno 22] Invalid argument: \"'C:\\\\\\\\Users\\\\\\\\david.fernandezrebor\\\\\\\\Downloads\\\\\\\\Provincias\\\\\\\\hola.txt'.py\"",
     "output_type": "error",
     "traceback": [
      "\u001b[1;31m---------------------------------------------------------------------------\u001b[0m",
      "\u001b[1;31mOSError\u001b[0m                                   Traceback (most recent call last)",
      "\u001b[1;32mc:\\Users\\david.fernandezrebor\\Downloads\\Provincias\\Untitled-1.ipynb Celda 9\u001b[0m line \u001b[0;36m1\n\u001b[1;32m----> <a href='vscode-notebook-cell:/c%3A/Users/david.fernandezrebor/Downloads/Provincias/Untitled-1.ipynb#X11sZmlsZQ%3D%3D?line=0'>1</a>\u001b[0m get_ipython()\u001b[39m.\u001b[39;49mrun_line_magic(\u001b[39m'\u001b[39;49m\u001b[39msave\u001b[39;49m\u001b[39m'\u001b[39;49m, \u001b[39m\"\u001b[39;49m\u001b[39m'\u001b[39;49m\u001b[39mC:\u001b[39;49m\u001b[39m\\\\\u001b[39;49;00m\u001b[39m\\\\\u001b[39;49;00m\u001b[39mUsers\u001b[39;49m\u001b[39m\\\\\u001b[39;49;00m\u001b[39m\\\\\u001b[39;49;00m\u001b[39mdavid.fernandezrebor\u001b[39;49m\u001b[39m\\\\\u001b[39;49;00m\u001b[39m\\\\\u001b[39;49;00m\u001b[39mDownloads\u001b[39;49m\u001b[39m\\\\\u001b[39;49;00m\u001b[39m\\\\\u001b[39;49;00m\u001b[39mProvincias\u001b[39;49m\u001b[39m\\\\\u001b[39;49;00m\u001b[39m\\\\\u001b[39;49;00m\u001b[39mhola.txt\u001b[39;49m\u001b[39m'\u001b[39;49m\u001b[39m\"\u001b[39;49m)\n",
      "File \u001b[1;32mc:\\Users\\david.fernandezrebor\\AppData\\Local\\miniconda3\\envs\\bigdata\\lib\\site-packages\\IPython\\core\\interactiveshell.py:2417\u001b[0m, in \u001b[0;36mInteractiveShell.run_line_magic\u001b[1;34m(self, magic_name, line, _stack_depth)\u001b[0m\n\u001b[0;32m   2415\u001b[0m     kwargs[\u001b[39m'\u001b[39m\u001b[39mlocal_ns\u001b[39m\u001b[39m'\u001b[39m] \u001b[39m=\u001b[39m \u001b[39mself\u001b[39m\u001b[39m.\u001b[39mget_local_scope(stack_depth)\n\u001b[0;32m   2416\u001b[0m \u001b[39mwith\u001b[39;00m \u001b[39mself\u001b[39m\u001b[39m.\u001b[39mbuiltin_trap:\n\u001b[1;32m-> 2417\u001b[0m     result \u001b[39m=\u001b[39m fn(\u001b[39m*\u001b[39;49margs, \u001b[39m*\u001b[39;49m\u001b[39m*\u001b[39;49mkwargs)\n\u001b[0;32m   2419\u001b[0m \u001b[39m# The code below prevents the output from being displayed\u001b[39;00m\n\u001b[0;32m   2420\u001b[0m \u001b[39m# when using magics with decodator @output_can_be_silenced\u001b[39;00m\n\u001b[0;32m   2421\u001b[0m \u001b[39m# when the last Python token in the expression is a ';'.\u001b[39;00m\n\u001b[0;32m   2422\u001b[0m \u001b[39mif\u001b[39;00m \u001b[39mgetattr\u001b[39m(fn, magic\u001b[39m.\u001b[39mMAGIC_OUTPUT_CAN_BE_SILENCED, \u001b[39mFalse\u001b[39;00m):\n",
      "File \u001b[1;32mc:\\Users\\david.fernandezrebor\\AppData\\Local\\miniconda3\\envs\\bigdata\\lib\\site-packages\\IPython\\core\\magics\\code.py:241\u001b[0m, in \u001b[0;36mCodeMagics.save\u001b[1;34m(self, parameter_s)\u001b[0m\n\u001b[0;32m    239\u001b[0m     \u001b[39mprint\u001b[39m(e\u001b[39m.\u001b[39margs[\u001b[39m0\u001b[39m])\n\u001b[0;32m    240\u001b[0m     \u001b[39mreturn\u001b[39;00m\n\u001b[1;32m--> 241\u001b[0m \u001b[39mwith\u001b[39;00m io\u001b[39m.\u001b[39;49mopen(fname, mode, encoding\u001b[39m=\u001b[39;49m\u001b[39m\"\u001b[39;49m\u001b[39mutf-8\u001b[39;49m\u001b[39m\"\u001b[39;49m) \u001b[39mas\u001b[39;00m f:\n\u001b[0;32m    242\u001b[0m     \u001b[39mif\u001b[39;00m \u001b[39mnot\u001b[39;00m file_exists \u001b[39mor\u001b[39;00m \u001b[39mnot\u001b[39;00m append:\n\u001b[0;32m    243\u001b[0m         f\u001b[39m.\u001b[39mwrite(\u001b[39m\"\u001b[39m\u001b[39m# coding: utf-8\u001b[39m\u001b[39m\\n\u001b[39;00m\u001b[39m\"\u001b[39m)\n",
      "\u001b[1;31mOSError\u001b[0m: [Errno 22] Invalid argument: \"'C:\\\\\\\\Users\\\\\\\\david.fernandezrebor\\\\\\\\Downloads\\\\\\\\Provincias\\\\\\\\hola.txt'.py\""
     ]
    }
   ],
   "source": [
    "%save "
   ]
  },
  {
   "cell_type": "code",
   "execution_count": 30,
   "metadata": {},
   "outputs": [
    {
     "data": {
      "application/json": {
       "cell": {
        "!": "OSMagics",
        "HTML": "Other",
        "SVG": "Other",
        "bash": "Other",
        "capture": "ExecutionMagics",
        "cmd": "Other",
        "debug": "ExecutionMagics",
        "file": "Other",
        "html": "DisplayMagics",
        "javascript": "DisplayMagics",
        "js": "DisplayMagics",
        "latex": "DisplayMagics",
        "markdown": "DisplayMagics",
        "perl": "Other",
        "prun": "ExecutionMagics",
        "pypy": "Other",
        "python": "Other",
        "python2": "Other",
        "python3": "Other",
        "ruby": "Other",
        "script": "ScriptMagics",
        "sh": "Other",
        "svg": "DisplayMagics",
        "sx": "OSMagics",
        "system": "OSMagics",
        "time": "ExecutionMagics",
        "timeit": "ExecutionMagics",
        "writefile": "OSMagics"
       },
       "line": {
        "alias": "OSMagics",
        "alias_magic": "BasicMagics",
        "autoawait": "AsyncMagics",
        "autocall": "AutoMagics",
        "automagic": "AutoMagics",
        "autosave": "KernelMagics",
        "bookmark": "OSMagics",
        "cd": "OSMagics",
        "clear": "KernelMagics",
        "cls": "KernelMagics",
        "colors": "BasicMagics",
        "conda": "PackagingMagics",
        "config": "ConfigMagics",
        "connect_info": "KernelMagics",
        "copy": "Other",
        "ddir": "Other",
        "debug": "ExecutionMagics",
        "dhist": "OSMagics",
        "dirs": "OSMagics",
        "doctest_mode": "BasicMagics",
        "echo": "Other",
        "ed": "Other",
        "edit": "KernelMagics",
        "env": "OSMagics",
        "gui": "BasicMagics",
        "hist": "Other",
        "history": "HistoryMagics",
        "killbgscripts": "ScriptMagics",
        "ldir": "Other",
        "less": "KernelMagics",
        "load": "CodeMagics",
        "load_ext": "ExtensionMagics",
        "loadpy": "CodeMagics",
        "logoff": "LoggingMagics",
        "logon": "LoggingMagics",
        "logstart": "LoggingMagics",
        "logstate": "LoggingMagics",
        "logstop": "LoggingMagics",
        "ls": "Other",
        "lsmagic": "BasicMagics",
        "macro": "ExecutionMagics",
        "magic": "BasicMagics",
        "matplotlib": "PylabMagics",
        "mkdir": "Other",
        "more": "KernelMagics",
        "notebook": "BasicMagics",
        "page": "BasicMagics",
        "pastebin": "CodeMagics",
        "pdb": "ExecutionMagics",
        "pdef": "NamespaceMagics",
        "pdoc": "NamespaceMagics",
        "pfile": "NamespaceMagics",
        "pinfo": "NamespaceMagics",
        "pinfo2": "NamespaceMagics",
        "pip": "PackagingMagics",
        "popd": "OSMagics",
        "pprint": "BasicMagics",
        "precision": "BasicMagics",
        "prun": "ExecutionMagics",
        "psearch": "NamespaceMagics",
        "psource": "NamespaceMagics",
        "pushd": "OSMagics",
        "pwd": "OSMagics",
        "pycat": "OSMagics",
        "pylab": "PylabMagics",
        "qtconsole": "KernelMagics",
        "quickref": "BasicMagics",
        "recall": "HistoryMagics",
        "rehashx": "OSMagics",
        "reload_ext": "ExtensionMagics",
        "ren": "Other",
        "rep": "Other",
        "rerun": "HistoryMagics",
        "reset": "NamespaceMagics",
        "reset_selective": "NamespaceMagics",
        "rmdir": "Other",
        "run": "ExecutionMagics",
        "save": "CodeMagics",
        "sc": "OSMagics",
        "set_env": "OSMagics",
        "store": "StoreMagics",
        "sx": "OSMagics",
        "system": "OSMagics",
        "tb": "ExecutionMagics",
        "time": "ExecutionMagics",
        "timeit": "ExecutionMagics",
        "unalias": "OSMagics",
        "unload_ext": "ExtensionMagics",
        "who": "NamespaceMagics",
        "who_ls": "NamespaceMagics",
        "whos": "NamespaceMagics",
        "xdel": "NamespaceMagics",
        "xmode": "BasicMagics"
       }
      },
      "text/plain": [
       "Available line magics:\n",
       "%alias  %alias_magic  %autoawait  %autocall  %automagic  %autosave  %bookmark  %cd  %clear  %cls  %colors  %conda  %config  %connect_info  %copy  %ddir  %debug  %dhist  %dirs  %doctest_mode  %echo  %ed  %edit  %env  %gui  %hist  %history  %killbgscripts  %ldir  %less  %load  %load_ext  %loadpy  %logoff  %logon  %logstart  %logstate  %logstop  %ls  %lsmagic  %macro  %magic  %matplotlib  %mkdir  %more  %notebook  %page  %pastebin  %pdb  %pdef  %pdoc  %pfile  %pinfo  %pinfo2  %pip  %popd  %pprint  %precision  %prun  %psearch  %psource  %pushd  %pwd  %pycat  %pylab  %qtconsole  %quickref  %recall  %rehashx  %reload_ext  %ren  %rep  %rerun  %reset  %reset_selective  %rmdir  %run  %save  %sc  %set_env  %store  %sx  %system  %tb  %time  %timeit  %unalias  %unload_ext  %who  %who_ls  %whos  %xdel  %xmode\n",
       "\n",
       "Available cell magics:\n",
       "%%!  %%HTML  %%SVG  %%bash  %%capture  %%cmd  %%debug  %%file  %%html  %%javascript  %%js  %%latex  %%markdown  %%perl  %%prun  %%pypy  %%python  %%python2  %%python3  %%ruby  %%script  %%sh  %%svg  %%sx  %%system  %%time  %%timeit  %%writefile\n",
       "\n",
       "Automagic is ON, % prefix IS NOT needed for line magics."
      ]
     },
     "execution_count": 30,
     "metadata": {},
     "output_type": "execute_result"
    }
   ],
   "source": [
    "%lsmagic"
   ]
  },
  {
   "cell_type": "code",
   "execution_count": 31,
   "metadata": {},
   "outputs": [
    {
     "data": {
      "text/plain": [
       "{'ALLUSERSPROFILE': 'C:\\\\ProgramData',\n",
       " 'APPDATA': 'C:\\\\Users\\\\david.fernandezrebor\\\\AppData\\\\Roaming',\n",
       " 'CHROME_CRASHPAD_PIPE_NAME': '\\\\\\\\.\\\\pipe\\\\crashpad_5404_LHKEORDRJKULLDOW',\n",
       " 'COMMONPROGRAMFILES': 'C:\\\\Program Files\\\\Common Files',\n",
       " 'COMMONPROGRAMFILES(X86)': 'C:\\\\Program Files (x86)\\\\Common Files',\n",
       " 'COMMONPROGRAMW6432': 'C:\\\\Program Files\\\\Common Files',\n",
       " 'COMPUTERNAME': 'A23P166C',\n",
       " 'COMSPEC': 'C:\\\\windows\\\\system32\\\\cmd.exe',\n",
       " 'CONDA_DEFAULT_ENV': 'bigdata',\n",
       " 'CONDA_EXE': 'C:\\\\Users\\\\david.fernandezrebor\\\\AppData\\\\Local\\\\miniconda3\\\\Scripts\\\\conda.exe',\n",
       " 'CONDA_PREFIX': 'C:\\\\Users\\\\david.fernandezrebor\\\\AppData\\\\Local\\\\miniconda3\\\\envs\\\\bigdata',\n",
       " 'CONDA_PROMPT_MODIFIER': '(bigdata) ',\n",
       " 'CONDA_PYTHON_EXE': 'C:\\\\Users\\\\david.fernandezrebor\\\\AppData\\\\Local\\\\miniconda3\\\\python.exe',\n",
       " 'CONDA_ROOT': 'C:\\\\Users\\\\david.fernandezrebor\\\\AppData\\\\Local\\\\miniconda3',\n",
       " 'CONDA_SHLVL': '1',\n",
       " 'DRIVERDATA': 'C:\\\\Windows\\\\System32\\\\Drivers\\\\DriverData',\n",
       " 'EFC_5560': '1',\n",
       " 'ELECTRON_RUN_AS_NODE': '1',\n",
       " 'FPS_BROWSER_APP_PROFILE_STRING': 'Internet Explorer',\n",
       " 'FPS_BROWSER_USER_PROFILE_STRING': 'Default',\n",
       " 'HOMEDRIVE': 'C:',\n",
       " 'HOMEPATH': '\\\\Users\\\\david.fernandezrebor',\n",
       " 'JPY_INTERRUPT_EVENT': '2296',\n",
       " 'LOCALAPPDATA': 'C:\\\\Users\\\\david.fernandezrebor\\\\AppData\\\\Local',\n",
       " 'LOGONSERVER': '\\\\\\\\SERVIDOR',\n",
       " 'NUMBER_OF_PROCESSORS': '6',\n",
       " 'ONEDRIVE': 'C:\\\\Users\\\\david.fernandezrebor\\\\OneDrive',\n",
       " 'ORIGINAL_XDG_CURRENT_DESKTOP': 'undefined',\n",
       " 'OS': 'Windows_NT',\n",
       " 'PATH': 'c:\\\\Users\\\\david.fernandezrebor\\\\AppData\\\\Local\\\\miniconda3\\\\envs\\\\bigdata;C:\\\\Users\\\\david.fernandezrebor\\\\AppData\\\\Local\\\\miniconda3\\\\envs\\\\bigdata;C:\\\\Users\\\\david.fernandezrebor\\\\AppData\\\\Local\\\\miniconda3\\\\envs\\\\bigdata\\\\Library\\\\mingw-w64\\\\bin;C:\\\\Users\\\\david.fernandezrebor\\\\AppData\\\\Local\\\\miniconda3\\\\envs\\\\bigdata\\\\Library\\\\usr\\\\bin;C:\\\\Users\\\\david.fernandezrebor\\\\AppData\\\\Local\\\\miniconda3\\\\envs\\\\bigdata\\\\Library\\\\bin;C:\\\\Users\\\\david.fernandezrebor\\\\AppData\\\\Local\\\\miniconda3\\\\envs\\\\bigdata\\\\Scripts;C:\\\\Users\\\\david.fernandezrebor\\\\AppData\\\\Local\\\\miniconda3\\\\envs\\\\bigdata\\\\bin;C:\\\\Program Files (x86)\\\\Common Files\\\\Oracle\\\\Java\\\\javapath;C:\\\\windows\\\\system32;C:\\\\windows;C:\\\\windows\\\\System32\\\\Wbem;C:\\\\windows\\\\System32\\\\WindowsPowerShell\\\\v1.0;C:\\\\windows\\\\System32\\\\OpenSSH;C:\\\\Program Files\\\\Git\\\\cmd;C:\\\\Program Files\\\\PuTTY;C:\\\\Program Files\\\\Microsoft VS Code\\\\bin;C:\\\\HashiCorp\\\\Vagrant\\\\bin;C:\\\\Program Files\\\\dotnet;C:\\\\Program Files (x86)\\\\GnuPG\\\\bin;C:\\\\Program Files\\\\WireGuard;C:\\\\Users\\\\david.fernandezrebor\\\\AppData\\\\Local\\\\Microsoft\\\\WindowsApps;C:\\\\Users\\\\david.fernandezrebor\\\\AppData\\\\Local\\\\miniconda3\\\\condabin;.',\n",
       " 'PATHEXT': '.COM;.EXE;.BAT;.CMD;.VBS;.VBE;.JS;.JSE;.WSF;.WSH;.MSC',\n",
       " 'PROCESSOR_ARCHITECTURE': 'AMD64',\n",
       " 'PROCESSOR_IDENTIFIER': 'Intel64 Family 6 Model 158 Stepping 10, GenuineIntel',\n",
       " 'PROCESSOR_LEVEL': '6',\n",
       " 'PROCESSOR_REVISION': '9e0a',\n",
       " 'PROGRAMDATA': 'C:\\\\ProgramData',\n",
       " 'PROGRAMFILES': 'C:\\\\Program Files',\n",
       " 'PROGRAMFILES(X86)': 'C:\\\\Program Files (x86)',\n",
       " 'PROGRAMW6432': 'C:\\\\Program Files',\n",
       " 'PROMPT': '(bigdata) $P$G',\n",
       " 'PSMODULEPATH': 'C:\\\\Program Files\\\\WindowsPowerShell\\\\Modules;C:\\\\windows\\\\system32\\\\WindowsPowerShell\\\\v1.0\\\\Modules',\n",
       " 'PUBLIC': 'C:\\\\Users\\\\Public',\n",
       " 'PYDEVD_IPYTHON_COMPATIBLE_DEBUGGING': '1',\n",
       " 'PYTHONIOENCODING': 'utf-8',\n",
       " 'PYTHONUNBUFFERED': '1',\n",
       " 'PYTHONUTF8': '1',\n",
       " 'SESSIONNAME': 'Console',\n",
       " 'SSL_CERT_FILE': 'C:\\\\Users\\\\david.fernandezrebor\\\\AppData\\\\Local\\\\miniconda3\\\\envs\\\\bigdata\\\\Library\\\\ssl\\\\cacert.pem',\n",
       " 'SYSTEMDRIVE': 'C:',\n",
       " 'SYSTEMROOT': 'C:\\\\windows',\n",
       " 'TEMP': 'C:\\\\Users\\\\DAVID~1.FER\\\\AppData\\\\Local\\\\Temp',\n",
       " 'TMP': 'C:\\\\Users\\\\DAVID~1.FER\\\\AppData\\\\Local\\\\Temp',\n",
       " 'USERDNSDOMAIN': 'WIRTZ.LOCAL',\n",
       " 'USERDOMAIN': 'WIRTZ',\n",
       " 'USERDOMAIN_ROAMINGPROFILE': 'WIRTZ',\n",
       " 'USERNAME': 'david.fernandezrebor',\n",
       " 'USERPROFILE': 'C:\\\\Users\\\\david.fernandezrebor',\n",
       " 'VBOX_MSI_INSTALL_PATH': 'C:\\\\Program Files\\\\Oracle\\\\VirtualBox\\\\',\n",
       " 'VSCODE_AMD_ENTRYPOINT': 'vs/workbench/api/node/extensionHostProcess',\n",
       " 'VSCODE_CODE_CACHE_PATH': 'C:\\\\Users\\\\david.fernandezrebor\\\\AppData\\\\Roaming\\\\Code\\\\CachedData\\\\d037ac076cee195194f93ce6fe2bdfe2969cc82d',\n",
       " 'VSCODE_CRASH_REPORTER_PROCESS_TYPE': 'extensionHost',\n",
       " 'VSCODE_CWD': 'C:\\\\Program Files\\\\Microsoft VS Code',\n",
       " 'VSCODE_HANDLES_UNCAUGHT_ERRORS': 'true',\n",
       " 'VSCODE_IPC_HOOK': '\\\\\\\\.\\\\pipe\\\\f6f67fd876783b4f0f9a2b79a0b75ee2-1.84.0-main-sock',\n",
       " 'VSCODE_L10N_BUNDLE_LOCATION': 'file:///c%3A/Users/david.fernandezrebor/.vscode/extensions/ms-ceintl.vscode-language-pack-es-1.84.2023111509/translations/extensions/vscode.json-language-features.i18n.json',\n",
       " 'VSCODE_NLS_CONFIG': '{\"locale\":\"es\",\"osLocale\":\"es-es\",\"availableLanguages\":{\"*\":\"es\"},\"_languagePackId\":\"fd0acb673c1c6607bd0ce6affb05c320.es\",\"_translationsConfigFile\":\"C:\\\\\\\\Users\\\\\\\\david.fernandezrebor\\\\\\\\AppData\\\\\\\\Roaming\\\\\\\\Code\\\\\\\\clp\\\\\\\\fd0acb673c1c6607bd0ce6affb05c320.es\\\\\\\\tcf.json\",\"_cacheRoot\":\"C:\\\\\\\\Users\\\\\\\\david.fernandezrebor\\\\\\\\AppData\\\\\\\\Roaming\\\\\\\\Code\\\\\\\\clp\\\\\\\\fd0acb673c1c6607bd0ce6affb05c320.es\",\"_resolvedLanguagePackCoreLocation\":\"C:\\\\\\\\Users\\\\\\\\david.fernandezrebor\\\\\\\\AppData\\\\\\\\Roaming\\\\\\\\Code\\\\\\\\clp\\\\\\\\fd0acb673c1c6607bd0ce6affb05c320.es\\\\\\\\d037ac076cee195194f93ce6fe2bdfe2969cc82d\",\"_corruptedFile\":\"C:\\\\\\\\Users\\\\\\\\david.fernandezrebor\\\\\\\\AppData\\\\\\\\Roaming\\\\\\\\Code\\\\\\\\clp\\\\\\\\fd0acb673c1c6607bd0ce6affb05c320.es\\\\\\\\corrupted.info\",\"_languagePackSupport\":true}',\n",
       " 'VSCODE_PID': '5404',\n",
       " 'WINDIR': 'C:\\\\windows',\n",
       " 'ZES_ENABLE_SYSMAN': '1',\n",
       " '_CONDA_OLD_CHCP': '850',\n",
       " '__CONDA_OPENSLL_CERT_FILE_SET': '\"1\"',\n",
       " 'PYDEVD_USE_FRAME_EVAL': 'NO',\n",
       " 'TERM': 'xterm-color',\n",
       " 'CLICOLOR': '1',\n",
       " 'FORCE_COLOR': '1',\n",
       " 'CLICOLOR_FORCE': '1',\n",
       " 'PAGER': 'cat',\n",
       " 'GIT_PAGER': 'cat',\n",
       " 'MPLBACKEND': 'module://matplotlib_inline.backend_inline'}"
      ]
     },
     "execution_count": 31,
     "metadata": {},
     "output_type": "execute_result"
    }
   ],
   "source": [
    "%env"
   ]
  },
  {
   "cell_type": "code",
   "execution_count": null,
   "metadata": {},
   "outputs": [],
   "source": []
  }
 ],
 "metadata": {
  "kernelspec": {
   "display_name": "bigdata",
   "language": "python",
   "name": "python3"
  },
  "language_info": {
   "codemirror_mode": {
    "name": "ipython",
    "version": 3
   },
   "file_extension": ".py",
   "mimetype": "text/x-python",
   "name": "python",
   "nbconvert_exporter": "python",
   "pygments_lexer": "ipython3",
   "version": "3.8.18"
  }
 },
 "nbformat": 4,
 "nbformat_minor": 2
}
