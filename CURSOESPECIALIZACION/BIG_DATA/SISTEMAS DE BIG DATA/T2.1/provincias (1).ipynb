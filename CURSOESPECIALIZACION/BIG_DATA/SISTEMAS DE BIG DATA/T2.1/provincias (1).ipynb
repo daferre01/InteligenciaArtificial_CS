{
 "cells": [
  {
   "cell_type": "markdown",
   "metadata": {},
   "source": [
    "## T2.1 Exercicio CSV con PANDAS\n"
   ]
  },
  {
   "cell_type": "markdown",
   "metadata": {},
   "source": [
    "- Prácticas de lectura CSV\n",
    "- Utiliza os datasets dos centros educativos en Galicia\n",
    "- https://www.edu.xunta.gal/centroseducativos/BuscaCentros.do"
   ]
  },
  {
   "cell_type": "code",
   "execution_count": 189,
   "metadata": {},
   "outputs": [],
   "source": [
    "import pandas as pd\n",
    "import os\n",
    "import tempfile"
   ]
  },
  {
   "cell_type": "code",
   "execution_count": 190,
   "metadata": {},
   "outputs": [],
   "source": [
    "path_base='/Users/david.fernandezrebor/Downloads/Provincias/'\n",
    "\n",
    "dfCoruna = pd.read_csv(os.path.join(path_base, 'Coruña.csv'))\n",
    "dfOurense = pd.read_csv(os.path.join(path_base, 'Ourense.csv'))\n",
    "dfPontevedra = pd.read_csv(os.path.join(path_base, 'Pontevedra.csv'))\n",
    "dfLugo = pd.read_csv(os.path.join(path_base, 'Lugo.csv'))"
   ]
  },
  {
   "cell_type": "code",
   "execution_count": 191,
   "metadata": {},
   "outputs": [
    {
     "data": {
      "text/html": [
       "<div>\n",
       "<style scoped>\n",
       "    .dataframe tbody tr th:only-of-type {\n",
       "        vertical-align: middle;\n",
       "    }\n",
       "\n",
       "    .dataframe tbody tr th {\n",
       "        vertical-align: top;\n",
       "    }\n",
       "\n",
       "    .dataframe thead th {\n",
       "        text-align: right;\n",
       "    }\n",
       "</style>\n",
       "<table border=\"1\" class=\"dataframe\">\n",
       "  <thead>\n",
       "    <tr style=\"text-align: right;\">\n",
       "      <th></th>\n",
       "      <th>Código</th>\n",
       "      <th>Nome</th>\n",
       "      <th>Enderezo</th>\n",
       "      <th>Concello</th>\n",
       "      <th>Provincia</th>\n",
       "      <th>Cód. postal</th>\n",
       "      <th>Teléfono</th>\n",
       "      <th>Tipo de centro</th>\n",
       "      <th>COORDENADA_X</th>\n",
       "      <th>COORDENADA_Y</th>\n",
       "      <th>TITULARIDADE</th>\n",
       "      <th>ENSINO_CONCERTADO</th>\n",
       "      <th>DEPENDENTE</th>\n",
       "    </tr>\n",
       "  </thead>\n",
       "  <tbody>\n",
       "    <tr>\n",
       "      <th>0</th>\n",
       "      <td>15000016</td>\n",
       "      <td>CEIP Plurilingüe San Marcos</td>\n",
       "      <td>Campo da Feira s/n</td>\n",
       "      <td>Abegondo</td>\n",
       "      <td>A Coruña</td>\n",
       "      <td>15318.0</td>\n",
       "      <td>881880201</td>\n",
       "      <td>CEIP</td>\n",
       "      <td>43.229183</td>\n",
       "      <td>-8.286580</td>\n",
       "      <td>Pública</td>\n",
       "      <td>Non</td>\n",
       "      <td>Si</td>\n",
       "    </tr>\n",
       "    <tr>\n",
       "      <th>1</th>\n",
       "      <td>15000107</td>\n",
       "      <td>CEIP A Maía</td>\n",
       "      <td>Rúa Peregrina, s/n (Bertamiráns)</td>\n",
       "      <td>Ames</td>\n",
       "      <td>A Coruña</td>\n",
       "      <td>15220.0</td>\n",
       "      <td>881866002</td>\n",
       "      <td>CEIP</td>\n",
       "      <td>42.867485</td>\n",
       "      <td>-8.657342</td>\n",
       "      <td>Pública</td>\n",
       "      <td>Non</td>\n",
       "      <td>Si</td>\n",
       "    </tr>\n",
       "    <tr>\n",
       "      <th>2</th>\n",
       "      <td>15000132</td>\n",
       "      <td>CPR Plurilingüe Alca</td>\n",
       "      <td>Lugar Biduído de Arriba 36</td>\n",
       "      <td>Ames</td>\n",
       "      <td>A Coruña</td>\n",
       "      <td>15895.0</td>\n",
       "      <td>981531103</td>\n",
       "      <td>CPR</td>\n",
       "      <td>42.846325</td>\n",
       "      <td>-8.600729</td>\n",
       "      <td>Privada</td>\n",
       "      <td>Si</td>\n",
       "      <td>Non</td>\n",
       "    </tr>\n",
       "    <tr>\n",
       "      <th>3</th>\n",
       "      <td>15000338</td>\n",
       "      <td>CPI As Mirandas</td>\n",
       "      <td>Avenida Celso Emilio Ferreiro 4</td>\n",
       "      <td>Ares</td>\n",
       "      <td>A Coruña</td>\n",
       "      <td>15624.0</td>\n",
       "      <td>881930020</td>\n",
       "      <td>CPI</td>\n",
       "      <td>43.429363</td>\n",
       "      <td>-8.246173</td>\n",
       "      <td>Pública</td>\n",
       "      <td>Non</td>\n",
       "      <td>Si</td>\n",
       "    </tr>\n",
       "    <tr>\n",
       "      <th>4</th>\n",
       "      <td>15000363</td>\n",
       "      <td>CEIP Ponte dos Brozos</td>\n",
       "      <td>Avenida Arsenio Iglesias, 34 (Sabon)</td>\n",
       "      <td>Arteixo</td>\n",
       "      <td>A Coruña</td>\n",
       "      <td>15142.0</td>\n",
       "      <td>881960506</td>\n",
       "      <td>CEIP</td>\n",
       "      <td>43.306938</td>\n",
       "      <td>-8.510333</td>\n",
       "      <td>Pública</td>\n",
       "      <td>Non</td>\n",
       "      <td>Si</td>\n",
       "    </tr>\n",
       "    <tr>\n",
       "      <th>...</th>\n",
       "      <td>...</td>\n",
       "      <td>...</td>\n",
       "      <td>...</td>\n",
       "      <td>...</td>\n",
       "      <td>...</td>\n",
       "      <td>...</td>\n",
       "      <td>...</td>\n",
       "      <td>...</td>\n",
       "      <td>...</td>\n",
       "      <td>...</td>\n",
       "      <td>...</td>\n",
       "      <td>...</td>\n",
       "      <td>...</td>\n",
       "    </tr>\n",
       "    <tr>\n",
       "      <th>611</th>\n",
       "      <td>36025189</td>\n",
       "      <td>EMUSPR Escola de Música da Banda Unión Musical...</td>\n",
       "      <td>Lugar Lugar de Covas 14 B</td>\n",
       "      <td>Cerdedo-Cotobade</td>\n",
       "      <td>Pontevedra</td>\n",
       "      <td>36120.0</td>\n",
       "      <td>NaN</td>\n",
       "      <td>EMUSPR</td>\n",
       "      <td>-13.488744</td>\n",
       "      <td>0.000000</td>\n",
       "      <td>Privada</td>\n",
       "      <td>Non</td>\n",
       "      <td>Non</td>\n",
       "    </tr>\n",
       "    <tr>\n",
       "      <th>612</th>\n",
       "      <td>36025190</td>\n",
       "      <td>EMUSPR Escola da Banda de Música Popular de Tui</td>\n",
       "      <td>Lugar Gándara s/n</td>\n",
       "      <td>Tui</td>\n",
       "      <td>Pontevedra</td>\n",
       "      <td>36720.0</td>\n",
       "      <td>NaN</td>\n",
       "      <td>EMUSPR</td>\n",
       "      <td>-8.623660</td>\n",
       "      <td>42.076248</td>\n",
       "      <td>Privada</td>\n",
       "      <td>Non</td>\n",
       "      <td>Non</td>\n",
       "    </tr>\n",
       "    <tr>\n",
       "      <th>613</th>\n",
       "      <td>36025207</td>\n",
       "      <td>EMUSPR Escola de Música Lira de San Miguel de Oia</td>\n",
       "      <td>Camiño de Currás 34</td>\n",
       "      <td>Vigo</td>\n",
       "      <td>Pontevedra</td>\n",
       "      <td>36390.0</td>\n",
       "      <td>NaN</td>\n",
       "      <td>EMUSPR</td>\n",
       "      <td>-13.488744</td>\n",
       "      <td>0.000000</td>\n",
       "      <td>Privada</td>\n",
       "      <td>Non</td>\n",
       "      <td>Non</td>\n",
       "    </tr>\n",
       "    <tr>\n",
       "      <th>614</th>\n",
       "      <td>36025219</td>\n",
       "      <td>Cen. Pub. Escola de Canteiros de Poio</td>\n",
       "      <td>Rúa Illa do Santo 2</td>\n",
       "      <td>Poio</td>\n",
       "      <td>Pontevedra</td>\n",
       "      <td>36005.0</td>\n",
       "      <td>NaN</td>\n",
       "      <td>Cen. Pub.</td>\n",
       "      <td>-8.663683</td>\n",
       "      <td>42.440247</td>\n",
       "      <td>Pública</td>\n",
       "      <td>Non</td>\n",
       "      <td>Si</td>\n",
       "    </tr>\n",
       "    <tr>\n",
       "      <th>615</th>\n",
       "      <td>36025220</td>\n",
       "      <td>CAD FDYE-Galicia</td>\n",
       "      <td>Avenida das Camelias 53</td>\n",
       "      <td>Vigo</td>\n",
       "      <td>Pontevedra</td>\n",
       "      <td>36211.0</td>\n",
       "      <td>680831166</td>\n",
       "      <td>CAD</td>\n",
       "      <td>-8.729750</td>\n",
       "      <td>42.229722</td>\n",
       "      <td>Privada</td>\n",
       "      <td>Non</td>\n",
       "      <td>Non</td>\n",
       "    </tr>\n",
       "  </tbody>\n",
       "</table>\n",
       "<p>1641 rows × 13 columns</p>\n",
       "</div>"
      ],
      "text/plain": [
       "       Código                                               Nome  \\\n",
       "0    15000016                        CEIP Plurilingüe San Marcos   \n",
       "1    15000107                                        CEIP A Maía   \n",
       "2    15000132                               CPR Plurilingüe Alca   \n",
       "3    15000338                                    CPI As Mirandas   \n",
       "4    15000363                              CEIP Ponte dos Brozos   \n",
       "..        ...                                                ...   \n",
       "611  36025189  EMUSPR Escola de Música da Banda Unión Musical...   \n",
       "612  36025190    EMUSPR Escola da Banda de Música Popular de Tui   \n",
       "613  36025207  EMUSPR Escola de Música Lira de San Miguel de Oia   \n",
       "614  36025219              Cen. Pub. Escola de Canteiros de Poio   \n",
       "615  36025220                                   CAD FDYE-Galicia   \n",
       "\n",
       "                                 Enderezo          Concello   Provincia  \\\n",
       "0                      Campo da Feira s/n          Abegondo    A Coruña   \n",
       "1        Rúa Peregrina, s/n (Bertamiráns)              Ames    A Coruña   \n",
       "2              Lugar Biduído de Arriba 36              Ames    A Coruña   \n",
       "3         Avenida Celso Emilio Ferreiro 4              Ares    A Coruña   \n",
       "4    Avenida Arsenio Iglesias, 34 (Sabon)           Arteixo    A Coruña   \n",
       "..                                    ...               ...         ...   \n",
       "611             Lugar Lugar de Covas 14 B  Cerdedo-Cotobade  Pontevedra   \n",
       "612                     Lugar Gándara s/n               Tui  Pontevedra   \n",
       "613                   Camiño de Currás 34              Vigo  Pontevedra   \n",
       "614                   Rúa Illa do Santo 2              Poio  Pontevedra   \n",
       "615               Avenida das Camelias 53              Vigo  Pontevedra   \n",
       "\n",
       "     Cód. postal   Teléfono Tipo de centro  COORDENADA_X  COORDENADA_Y  \\\n",
       "0        15318.0  881880201           CEIP     43.229183     -8.286580   \n",
       "1        15220.0  881866002           CEIP     42.867485     -8.657342   \n",
       "2        15895.0  981531103            CPR     42.846325     -8.600729   \n",
       "3        15624.0  881930020            CPI     43.429363     -8.246173   \n",
       "4        15142.0  881960506           CEIP     43.306938     -8.510333   \n",
       "..           ...        ...            ...           ...           ...   \n",
       "611      36120.0        NaN         EMUSPR    -13.488744      0.000000   \n",
       "612      36720.0        NaN         EMUSPR     -8.623660     42.076248   \n",
       "613      36390.0        NaN         EMUSPR    -13.488744      0.000000   \n",
       "614      36005.0        NaN      Cen. Pub.     -8.663683     42.440247   \n",
       "615      36211.0  680831166            CAD     -8.729750     42.229722   \n",
       "\n",
       "    TITULARIDADE ENSINO_CONCERTADO DEPENDENTE  \n",
       "0        Pública               Non         Si  \n",
       "1        Pública               Non         Si  \n",
       "2        Privada                Si        Non  \n",
       "3        Pública               Non         Si  \n",
       "4        Pública               Non         Si  \n",
       "..           ...               ...        ...  \n",
       "611      Privada               Non        Non  \n",
       "612      Privada               Non        Non  \n",
       "613      Privada               Non        Non  \n",
       "614      Pública               Non         Si  \n",
       "615      Privada               Non        Non  \n",
       "\n",
       "[1641 rows x 13 columns]"
      ]
     },
     "execution_count": 191,
     "metadata": {},
     "output_type": "execute_result"
    }
   ],
   "source": [
    "\n",
    "dfTotal=pd.concat([dfCoruna,dfLugo,dfOurense,dfPontevedra])\n",
    "dfTotal"
   ]
  },
  {
   "cell_type": "code",
   "execution_count": 192,
   "metadata": {},
   "outputs": [
    {
     "data": {
      "text/html": [
       "<div>\n",
       "<style scoped>\n",
       "    .dataframe tbody tr th:only-of-type {\n",
       "        vertical-align: middle;\n",
       "    }\n",
       "\n",
       "    .dataframe tbody tr th {\n",
       "        vertical-align: top;\n",
       "    }\n",
       "\n",
       "    .dataframe thead th {\n",
       "        text-align: right;\n",
       "    }\n",
       "</style>\n",
       "<table border=\"1\" class=\"dataframe\">\n",
       "  <thead>\n",
       "    <tr style=\"text-align: right;\">\n",
       "      <th></th>\n",
       "      <th>Código</th>\n",
       "      <th>Cód. postal</th>\n",
       "      <th>COORDENADA_X</th>\n",
       "      <th>COORDENADA_Y</th>\n",
       "    </tr>\n",
       "  </thead>\n",
       "  <tbody>\n",
       "    <tr>\n",
       "      <th>count</th>\n",
       "      <td>1.641000e+03</td>\n",
       "      <td>1640.000000</td>\n",
       "      <td>1641.000000</td>\n",
       "      <td>1641.000000</td>\n",
       "    </tr>\n",
       "    <tr>\n",
       "      <th>mean</th>\n",
       "      <td>2.656453e+07</td>\n",
       "      <td>26990.679268</td>\n",
       "      <td>39.940281</td>\n",
       "      <td>-5.742280</td>\n",
       "    </tr>\n",
       "    <tr>\n",
       "      <th>std</th>\n",
       "      <td>9.288248e+06</td>\n",
       "      <td>9306.468180</td>\n",
       "      <td>11.563759</td>\n",
       "      <td>11.133819</td>\n",
       "    </tr>\n",
       "    <tr>\n",
       "      <th>min</th>\n",
       "      <td>1.500002e+07</td>\n",
       "      <td>15001.000000</td>\n",
       "      <td>-13.488744</td>\n",
       "      <td>-9.269669</td>\n",
       "    </tr>\n",
       "    <tr>\n",
       "      <th>25%</th>\n",
       "      <td>1.502624e+07</td>\n",
       "      <td>15701.000000</td>\n",
       "      <td>42.241528</td>\n",
       "      <td>-8.701391</td>\n",
       "    </tr>\n",
       "    <tr>\n",
       "      <th>50%</th>\n",
       "      <td>2.702094e+07</td>\n",
       "      <td>27875.000000</td>\n",
       "      <td>42.587135</td>\n",
       "      <td>-8.425463</td>\n",
       "    </tr>\n",
       "    <tr>\n",
       "      <th>75%</th>\n",
       "      <td>3.601112e+07</td>\n",
       "      <td>36214.000000</td>\n",
       "      <td>43.108734</td>\n",
       "      <td>-7.862472</td>\n",
       "    </tr>\n",
       "    <tr>\n",
       "      <th>max</th>\n",
       "      <td>3.602522e+07</td>\n",
       "      <td>36995.000000</td>\n",
       "      <td>43.738419</td>\n",
       "      <td>43.741764</td>\n",
       "    </tr>\n",
       "  </tbody>\n",
       "</table>\n",
       "</div>"
      ],
      "text/plain": [
       "             Código   Cód. postal  COORDENADA_X  COORDENADA_Y\n",
       "count  1.641000e+03   1640.000000   1641.000000   1641.000000\n",
       "mean   2.656453e+07  26990.679268     39.940281     -5.742280\n",
       "std    9.288248e+06   9306.468180     11.563759     11.133819\n",
       "min    1.500002e+07  15001.000000    -13.488744     -9.269669\n",
       "25%    1.502624e+07  15701.000000     42.241528     -8.701391\n",
       "50%    2.702094e+07  27875.000000     42.587135     -8.425463\n",
       "75%    3.601112e+07  36214.000000     43.108734     -7.862472\n",
       "max    3.602522e+07  36995.000000     43.738419     43.741764"
      ]
     },
     "execution_count": 192,
     "metadata": {},
     "output_type": "execute_result"
    }
   ],
   "source": [
    "dfTotal.describe()"
   ]
  },
  {
   "cell_type": "code",
   "execution_count": 193,
   "metadata": {},
   "outputs": [
    {
     "data": {
      "text/html": [
       "<div>\n",
       "<style scoped>\n",
       "    .dataframe tbody tr th:only-of-type {\n",
       "        vertical-align: middle;\n",
       "    }\n",
       "\n",
       "    .dataframe tbody tr th {\n",
       "        vertical-align: top;\n",
       "    }\n",
       "\n",
       "    .dataframe thead th {\n",
       "        text-align: right;\n",
       "    }\n",
       "</style>\n",
       "<table border=\"1\" class=\"dataframe\">\n",
       "  <thead>\n",
       "    <tr style=\"text-align: right;\">\n",
       "      <th></th>\n",
       "      <th>TITULARIDADE</th>\n",
       "    </tr>\n",
       "  </thead>\n",
       "  <tbody>\n",
       "    <tr>\n",
       "      <th>0</th>\n",
       "      <td>Pública</td>\n",
       "    </tr>\n",
       "    <tr>\n",
       "      <th>1</th>\n",
       "      <td>Pública</td>\n",
       "    </tr>\n",
       "    <tr>\n",
       "      <th>2</th>\n",
       "      <td>Privada</td>\n",
       "    </tr>\n",
       "    <tr>\n",
       "      <th>3</th>\n",
       "      <td>Pública</td>\n",
       "    </tr>\n",
       "    <tr>\n",
       "      <th>4</th>\n",
       "      <td>Pública</td>\n",
       "    </tr>\n",
       "    <tr>\n",
       "      <th>...</th>\n",
       "      <td>...</td>\n",
       "    </tr>\n",
       "    <tr>\n",
       "      <th>611</th>\n",
       "      <td>Privada</td>\n",
       "    </tr>\n",
       "    <tr>\n",
       "      <th>612</th>\n",
       "      <td>Privada</td>\n",
       "    </tr>\n",
       "    <tr>\n",
       "      <th>613</th>\n",
       "      <td>Privada</td>\n",
       "    </tr>\n",
       "    <tr>\n",
       "      <th>614</th>\n",
       "      <td>Pública</td>\n",
       "    </tr>\n",
       "    <tr>\n",
       "      <th>615</th>\n",
       "      <td>Privada</td>\n",
       "    </tr>\n",
       "  </tbody>\n",
       "</table>\n",
       "<p>1641 rows × 1 columns</p>\n",
       "</div>"
      ],
      "text/plain": [
       "    TITULARIDADE\n",
       "0        Pública\n",
       "1        Pública\n",
       "2        Privada\n",
       "3        Pública\n",
       "4        Pública\n",
       "..           ...\n",
       "611      Privada\n",
       "612      Privada\n",
       "613      Privada\n",
       "614      Pública\n",
       "615      Privada\n",
       "\n",
       "[1641 rows x 1 columns]"
      ]
     },
     "execution_count": 193,
     "metadata": {},
     "output_type": "execute_result"
    }
   ],
   "source": [
    "dfTotal[['Concello','Nome']]\n",
    "pd.DataFrame(dfTotal.TITULARIDADE)\n"
   ]
  },
  {
   "cell_type": "code",
   "execution_count": 194,
   "metadata": {},
   "outputs": [
    {
     "data": {
      "text/plain": [
       "(1641, 13)"
      ]
     },
     "execution_count": 194,
     "metadata": {},
     "output_type": "execute_result"
    }
   ],
   "source": [
    "dfTotal.shape"
   ]
  },
  {
   "cell_type": "markdown",
   "metadata": {},
   "source": [
    "# Exercicio Entregable"
   ]
  },
  {
   "cell_type": "markdown",
   "metadata": {},
   "source": [
    "#### Seleccionar centros que sexan de titularidade privada. Cantos hai?"
   ]
  },
  {
   "cell_type": "code",
   "execution_count": 195,
   "metadata": {},
   "outputs": [
    {
     "data": {
      "text/plain": [
       "424"
      ]
     },
     "execution_count": 195,
     "metadata": {},
     "output_type": "execute_result"
    }
   ],
   "source": [
    "dfPriv=dfTotal[dfTotal.TITULARIDADE=='Privada']\n",
    "dfPriv.shape[0]"
   ]
  },
  {
   "cell_type": "markdown",
   "metadata": {},
   "source": [
    "####  Seleccionar centros que teñan ensinanzas concertados. Cantos hai?"
   ]
  },
  {
   "cell_type": "code",
   "execution_count": 196,
   "metadata": {},
   "outputs": [
    {
     "data": {
      "text/plain": [
       "228"
      ]
     },
     "execution_count": 196,
     "metadata": {},
     "output_type": "execute_result"
    }
   ],
   "source": [
    "dfConcertado=dfTotal[dfTotal.ENSINO_CONCERTADO=='Si']\n",
    "dfConcertado.shape[0]"
   ]
  },
  {
   "cell_type": "markdown",
   "metadata": {},
   "source": [
    "#### Hai algún centro con ensinanzas concertadas dependente da Consellería?\n"
   ]
  },
  {
   "cell_type": "code",
   "execution_count": 197,
   "metadata": {},
   "outputs": [
    {
     "data": {
      "text/plain": [
       "0"
      ]
     },
     "execution_count": 197,
     "metadata": {},
     "output_type": "execute_result"
    }
   ],
   "source": [
    "dfDepConcertado= dfTotal[(dfTotal.ENSINO_CONCERTADO=='Si') & (dfTotal.DEPENDENTE=='Si')]\n",
    "dfDepConcertado.shape[0]"
   ]
  },
  {
   "cell_type": "markdown",
   "metadata": {},
   "source": [
    "#### Seleccionar centros de titularidade pública de Coruña. Cantos hai?"
   ]
  },
  {
   "cell_type": "code",
   "execution_count": 198,
   "metadata": {},
   "outputs": [
    {
     "data": {
      "text/plain": [
       "454"
      ]
     },
     "execution_count": 198,
     "metadata": {},
     "output_type": "execute_result"
    }
   ],
   "source": [
    "dfPubCoruña=dfCoruna[dfCoruna.TITULARIDADE!='Privada']\n",
    "dfPubCoruña.shape[0]\n",
    "# OUTRA FORMA DE FACELO\n",
    "# dfPubCoruña=dfTotal[(dfTotal.Provincia=='A Coruña')& (dfTotal.TITULARIDADE!='Privada')]\n",
    "# dfPubCoruña"
   ]
  },
  {
   "cell_type": "markdown",
   "metadata": {},
   "source": [
    "#### Seleccionar centros de titularidade pública de Lugo. Cantos hai?"
   ]
  },
  {
   "cell_type": "code",
   "execution_count": 199,
   "metadata": {},
   "outputs": [
    {
     "data": {
      "text/plain": [
       "184"
      ]
     },
     "execution_count": 199,
     "metadata": {},
     "output_type": "execute_result"
    }
   ],
   "source": [
    "dfPubLugo=dfLugo[dfLugo.TITULARIDADE!='Privada']\n",
    "dfPubLugo.shape[0]\n",
    "# OUTRA FORMA DE FACELO\n",
    "# dfPubLugo=dfTotal[(dfTotal.Provincia=='Lugo')& (dfTotal.TITULARIDADE!='Privada')]\n",
    "# dfPubLugo.shape[0]"
   ]
  },
  {
   "cell_type": "markdown",
   "metadata": {},
   "source": [
    "#### Seleccionar centros de titularidade pública de Ourense. Cantos hai?"
   ]
  },
  {
   "cell_type": "code",
   "execution_count": 200,
   "metadata": {},
   "outputs": [
    {
     "data": {
      "text/plain": [
       "148"
      ]
     },
     "execution_count": 200,
     "metadata": {},
     "output_type": "execute_result"
    }
   ],
   "source": [
    "dfPubOu=dfOurense[dfOurense.TITULARIDADE!='Privada']\n",
    "dfPubOu.shape[0]\n",
    "# OUTRA FORMA DE FACELO\n",
    "# dfPubOu=dfTotal[(dfTotal.Provincia=='Ourense')& (dfTotal.TITULARIDADE!='Privada')]\n",
    "# dfPubOu.shape[0]"
   ]
  },
  {
   "cell_type": "markdown",
   "metadata": {},
   "source": [
    "#### Seleccionar centros de titularidade pública de Pontevedra. Cantos hai?"
   ]
  },
  {
   "cell_type": "code",
   "execution_count": 201,
   "metadata": {},
   "outputs": [
    {
     "data": {
      "text/plain": [
       "431"
      ]
     },
     "execution_count": 201,
     "metadata": {},
     "output_type": "execute_result"
    }
   ],
   "source": [
    "dfPubPont=dfPontevedra[dfPontevedra.TITULARIDADE!='Privada']\n",
    "dfPubPont.shape[0]\n",
    "# OUTRA FORMA DE FACELO\n",
    "# dfPubPont=dfTotal[(dfTotal.Provincia=='Pontevedra')& (dfTotal.TITULARIDADE!='Privada')]\n",
    "# dfPubPont.shape[0]"
   ]
  },
  {
   "cell_type": "markdown",
   "metadata": {},
   "source": [
    "#### Seleccionar centros de tipo: CIFP de cada unha das catro provincias. Cantos hai?"
   ]
  },
  {
   "cell_type": "code",
   "execution_count": 202,
   "metadata": {},
   "outputs": [
    {
     "data": {
      "text/html": [
       "<div>\n",
       "<style scoped>\n",
       "    .dataframe tbody tr th:only-of-type {\n",
       "        vertical-align: middle;\n",
       "    }\n",
       "\n",
       "    .dataframe tbody tr th {\n",
       "        vertical-align: top;\n",
       "    }\n",
       "\n",
       "    .dataframe thead th {\n",
       "        text-align: right;\n",
       "    }\n",
       "</style>\n",
       "<table border=\"1\" class=\"dataframe\">\n",
       "  <thead>\n",
       "    <tr style=\"text-align: right;\">\n",
       "      <th></th>\n",
       "      <th>Código</th>\n",
       "      <th>Nome</th>\n",
       "      <th>Enderezo</th>\n",
       "      <th>Concello</th>\n",
       "      <th>Provincia</th>\n",
       "      <th>Cód. postal</th>\n",
       "      <th>Teléfono</th>\n",
       "      <th>Tipo de centro</th>\n",
       "      <th>COORDENADA_X</th>\n",
       "      <th>COORDENADA_Y</th>\n",
       "      <th>TITULARIDADE</th>\n",
       "      <th>ENSINO_CONCERTADO</th>\n",
       "      <th>DEPENDENTE</th>\n",
       "    </tr>\n",
       "  </thead>\n",
       "  <tbody>\n",
       "    <tr>\n",
       "      <th>0</th>\n",
       "      <td>15000016</td>\n",
       "      <td>CEIP Plurilingüe San Marcos</td>\n",
       "      <td>Campo da Feira s/n</td>\n",
       "      <td>Abegondo</td>\n",
       "      <td>A Coruña</td>\n",
       "      <td>15318.0</td>\n",
       "      <td>881880201</td>\n",
       "      <td>CEIP</td>\n",
       "      <td>43.229183</td>\n",
       "      <td>-8.286580</td>\n",
       "      <td>Pública</td>\n",
       "      <td>Non</td>\n",
       "      <td>Si</td>\n",
       "    </tr>\n",
       "    <tr>\n",
       "      <th>1</th>\n",
       "      <td>15000107</td>\n",
       "      <td>CEIP A Maía</td>\n",
       "      <td>Rúa Peregrina, s/n (Bertamiráns)</td>\n",
       "      <td>Ames</td>\n",
       "      <td>A Coruña</td>\n",
       "      <td>15220.0</td>\n",
       "      <td>881866002</td>\n",
       "      <td>CEIP</td>\n",
       "      <td>42.867485</td>\n",
       "      <td>-8.657342</td>\n",
       "      <td>Pública</td>\n",
       "      <td>Non</td>\n",
       "      <td>Si</td>\n",
       "    </tr>\n",
       "    <tr>\n",
       "      <th>2</th>\n",
       "      <td>15000132</td>\n",
       "      <td>CPR Plurilingüe Alca</td>\n",
       "      <td>Lugar Biduído de Arriba 36</td>\n",
       "      <td>Ames</td>\n",
       "      <td>A Coruña</td>\n",
       "      <td>15895.0</td>\n",
       "      <td>981531103</td>\n",
       "      <td>CPR</td>\n",
       "      <td>42.846325</td>\n",
       "      <td>-8.600729</td>\n",
       "      <td>Privada</td>\n",
       "      <td>Si</td>\n",
       "      <td>Non</td>\n",
       "    </tr>\n",
       "    <tr>\n",
       "      <th>3</th>\n",
       "      <td>15000338</td>\n",
       "      <td>CPI As Mirandas</td>\n",
       "      <td>Avenida Celso Emilio Ferreiro 4</td>\n",
       "      <td>Ares</td>\n",
       "      <td>A Coruña</td>\n",
       "      <td>15624.0</td>\n",
       "      <td>881930020</td>\n",
       "      <td>CPI</td>\n",
       "      <td>43.429363</td>\n",
       "      <td>-8.246173</td>\n",
       "      <td>Pública</td>\n",
       "      <td>Non</td>\n",
       "      <td>Si</td>\n",
       "    </tr>\n",
       "    <tr>\n",
       "      <th>4</th>\n",
       "      <td>15000363</td>\n",
       "      <td>CEIP Ponte dos Brozos</td>\n",
       "      <td>Avenida Arsenio Iglesias, 34 (Sabon)</td>\n",
       "      <td>Arteixo</td>\n",
       "      <td>A Coruña</td>\n",
       "      <td>15142.0</td>\n",
       "      <td>881960506</td>\n",
       "      <td>CEIP</td>\n",
       "      <td>43.306938</td>\n",
       "      <td>-8.510333</td>\n",
       "      <td>Pública</td>\n",
       "      <td>Non</td>\n",
       "      <td>Si</td>\n",
       "    </tr>\n",
       "  </tbody>\n",
       "</table>\n",
       "</div>"
      ],
      "text/plain": [
       "     Código                         Nome  \\\n",
       "0  15000016  CEIP Plurilingüe San Marcos   \n",
       "1  15000107                  CEIP A Maía   \n",
       "2  15000132         CPR Plurilingüe Alca   \n",
       "3  15000338              CPI As Mirandas   \n",
       "4  15000363        CEIP Ponte dos Brozos   \n",
       "\n",
       "                               Enderezo  Concello Provincia  Cód. postal  \\\n",
       "0                    Campo da Feira s/n  Abegondo  A Coruña      15318.0   \n",
       "1      Rúa Peregrina, s/n (Bertamiráns)      Ames  A Coruña      15220.0   \n",
       "2            Lugar Biduído de Arriba 36      Ames  A Coruña      15895.0   \n",
       "3       Avenida Celso Emilio Ferreiro 4      Ares  A Coruña      15624.0   \n",
       "4  Avenida Arsenio Iglesias, 34 (Sabon)   Arteixo  A Coruña      15142.0   \n",
       "\n",
       "    Teléfono Tipo de centro  COORDENADA_X  COORDENADA_Y TITULARIDADE  \\\n",
       "0  881880201           CEIP     43.229183     -8.286580      Pública   \n",
       "1  881866002           CEIP     42.867485     -8.657342      Pública   \n",
       "2  981531103            CPR     42.846325     -8.600729      Privada   \n",
       "3  881930020            CPI     43.429363     -8.246173      Pública   \n",
       "4  881960506           CEIP     43.306938     -8.510333      Pública   \n",
       "\n",
       "  ENSINO_CONCERTADO DEPENDENTE  \n",
       "0               Non         Si  \n",
       "1               Non         Si  \n",
       "2                Si        Non  \n",
       "3               Non         Si  \n",
       "4               Non         Si  "
      ]
     },
     "execution_count": 202,
     "metadata": {},
     "output_type": "execute_result"
    }
   ],
   "source": [
    "dfTotal.head()"
   ]
  },
  {
   "cell_type": "markdown",
   "metadata": {},
   "source": [
    "* Pontevedra"
   ]
  },
  {
   "cell_type": "code",
   "execution_count": 203,
   "metadata": {},
   "outputs": [
    {
     "data": {
      "text/plain": [
       "200"
      ]
     },
     "execution_count": 203,
     "metadata": {},
     "output_type": "execute_result"
    }
   ],
   "source": [
    "dfPontevedraCEIP=dfTotal[(dfTotal['Tipo de centro']=='CEIP')&(dfTotal['Provincia']=='A Coruña')]\n",
    "dfPontevedraCEIP.shape[0]"
   ]
  },
  {
   "cell_type": "markdown",
   "metadata": {},
   "source": [
    "* Ourense"
   ]
  },
  {
   "cell_type": "code",
   "execution_count": 204,
   "metadata": {},
   "outputs": [
    {
     "data": {
      "text/plain": [
       "81"
      ]
     },
     "execution_count": 204,
     "metadata": {},
     "output_type": "execute_result"
    }
   ],
   "source": [
    "dfOurenseCEIP=dfTotal[(dfTotal['Tipo de centro']=='CEIP')&(dfTotal['Provincia']=='Ourense')]\n",
    "dfOurenseCEIP.shape[0]"
   ]
  },
  {
   "cell_type": "markdown",
   "metadata": {},
   "source": [
    "* Lugo "
   ]
  },
  {
   "cell_type": "code",
   "execution_count": 205,
   "metadata": {},
   "outputs": [
    {
     "data": {
      "text/plain": [
       "85"
      ]
     },
     "execution_count": 205,
     "metadata": {},
     "output_type": "execute_result"
    }
   ],
   "source": [
    "dfLugoCEIP=dfTotal[(dfTotal['Tipo de centro']=='CEIP')&(dfTotal['Provincia']=='Lugo')]\n",
    "dfLugoCEIP.shape[0]"
   ]
  },
  {
   "cell_type": "markdown",
   "metadata": {},
   "source": [
    "* A Coruña"
   ]
  },
  {
   "cell_type": "code",
   "execution_count": 206,
   "metadata": {},
   "outputs": [
    {
     "data": {
      "text/plain": [
       "200"
      ]
     },
     "execution_count": 206,
     "metadata": {},
     "output_type": "execute_result"
    }
   ],
   "source": [
    "dfCorunaCEIP=dfTotal[(dfTotal['Tipo de centro']=='CEIP')&(dfTotal['Provincia']=='A Coruña')]\n",
    "dfCorunaCEIP.shape[0]"
   ]
  },
  {
   "cell_type": "markdown",
   "metadata": {},
   "source": [
    "#### Seleccionar centros de tipo: CPI, CEIP e IES de cada unha das catro provincias. Cantos hai?"
   ]
  },
  {
   "cell_type": "code",
   "execution_count": 207,
   "metadata": {},
   "outputs": [
    {
     "name": "stdout",
     "output_type": "stream",
     "text": [
      "En Coruña hai entre CPI, CEIP e IES:328\n",
      "En Ourense hai entre CPI, CEIP e IES:115\n",
      "En Lugo hai entre CPI, CEIP e IES:134\n",
      "En Pontevedra hai entre CPI, CEIP e IES:298\n"
     ]
    }
   ],
   "source": [
    "#En A Coruña\n",
    "dfCentroCor=dfTotal[((dfTotal['Tipo de centro']=='CPI')|(dfTotal['Tipo de centro']=='IES')|(dfTotal['Tipo de centro']=='CEIP'))&(dfTotal['Provincia']=='A Coruña')]\n",
    "print(f'En Coruña hai entre CPI, CEIP e IES:{dfCentroCor.shape[0]}')\n",
    "#En Ourense\n",
    "dfCentroOu=dfTotal[((dfTotal['Tipo de centro']=='CPI')|(dfTotal['Tipo de centro']=='IES')|(dfTotal['Tipo de centro']=='CEIP'))&(dfTotal['Provincia']=='Ourense')]\n",
    "print(f'En Ourense hai entre CPI, CEIP e IES:{dfCentroOu.shape[0]}')\n",
    "#Lugo\n",
    "dfCentroLugo=dfTotal[((dfTotal['Tipo de centro']=='CPI')|(dfTotal['Tipo de centro']=='IES')|(dfTotal['Tipo de centro']=='CEIP'))&(dfTotal['Provincia']=='Lugo')]\n",
    "print(f'En Lugo hai entre CPI, CEIP e IES:{dfCentroLugo.shape[0]}')\n",
    "#Pontevedra\n",
    "dfCentroPon=dfTotal[((dfTotal['Tipo de centro']=='CPI')|(dfTotal['Tipo de centro']=='IES')|(dfTotal['Tipo de centro']=='CEIP'))&(dfTotal['Provincia']=='Pontevedra')]\n",
    "print(f'En Pontevedra hai entre CPI, CEIP e IES:{dfCentroPon.shape[0]}')"
   ]
  },
  {
   "cell_type": "markdown",
   "metadata": {},
   "source": [
    "#### Seleccionar o número de centros por concello."
   ]
  },
  {
   "cell_type": "code",
   "execution_count": 208,
   "metadata": {},
   "outputs": [
    {
     "data": {
      "text/html": [
       "<div>\n",
       "<style scoped>\n",
       "    .dataframe tbody tr th:only-of-type {\n",
       "        vertical-align: middle;\n",
       "    }\n",
       "\n",
       "    .dataframe tbody tr th {\n",
       "        vertical-align: top;\n",
       "    }\n",
       "\n",
       "    .dataframe thead th {\n",
       "        text-align: right;\n",
       "    }\n",
       "</style>\n",
       "<table border=\"1\" class=\"dataframe\">\n",
       "  <thead>\n",
       "    <tr style=\"text-align: right;\">\n",
       "      <th></th>\n",
       "      <th>Numero de Centros</th>\n",
       "    </tr>\n",
       "    <tr>\n",
       "      <th>Concello</th>\n",
       "      <th></th>\n",
       "    </tr>\n",
       "  </thead>\n",
       "  <tbody>\n",
       "    <tr>\n",
       "      <th>A Arnoia</th>\n",
       "      <td>1</td>\n",
       "    </tr>\n",
       "    <tr>\n",
       "      <th>A Baña</th>\n",
       "      <td>2</td>\n",
       "    </tr>\n",
       "    <tr>\n",
       "      <th>A Capela</th>\n",
       "      <td>1</td>\n",
       "    </tr>\n",
       "    <tr>\n",
       "      <th>A Cañiza</th>\n",
       "      <td>3</td>\n",
       "    </tr>\n",
       "    <tr>\n",
       "      <th>A Coruña</th>\n",
       "      <td>105</td>\n",
       "    </tr>\n",
       "    <tr>\n",
       "      <th>...</th>\n",
       "      <td>...</td>\n",
       "    </tr>\n",
       "    <tr>\n",
       "      <th>Xermade</th>\n",
       "      <td>1</td>\n",
       "    </tr>\n",
       "    <tr>\n",
       "      <th>Xinzo de Limia</th>\n",
       "      <td>6</td>\n",
       "    </tr>\n",
       "    <tr>\n",
       "      <th>Xove</th>\n",
       "      <td>3</td>\n",
       "    </tr>\n",
       "    <tr>\n",
       "      <th>Xunqueira de Ambía</th>\n",
       "      <td>1</td>\n",
       "    </tr>\n",
       "    <tr>\n",
       "      <th>Zas</th>\n",
       "      <td>3</td>\n",
       "    </tr>\n",
       "  </tbody>\n",
       "</table>\n",
       "<p>288 rows × 1 columns</p>\n",
       "</div>"
      ],
      "text/plain": [
       "                    Numero de Centros\n",
       "Concello                             \n",
       "A Arnoia                            1\n",
       "A Baña                              2\n",
       "A Capela                            1\n",
       "A Cañiza                            3\n",
       "A Coruña                          105\n",
       "...                               ...\n",
       "Xermade                             1\n",
       "Xinzo de Limia                      6\n",
       "Xove                                3\n",
       "Xunqueira de Ambía                  1\n",
       "Zas                                 3\n",
       "\n",
       "[288 rows x 1 columns]"
      ]
     },
     "execution_count": 208,
     "metadata": {},
     "output_type": "execute_result"
    }
   ],
   "source": [
    "CentrosConcello=dfTotal[['Concello', 'Nome']]\n",
    "CentrosConcello = CentrosConcello.groupby('Concello').count()\n",
    "CentrosConcello=CentrosConcello[['Nome']].rename(columns={'Nome':'Numero de Centros'})\n",
    "CentrosConcello"
   ]
  },
  {
   "cell_type": "markdown",
   "metadata": {},
   "source": [
    "#### Seleccionar o número de centros de cada tipo por concello."
   ]
  },
  {
   "cell_type": "code",
   "execution_count": 209,
   "metadata": {},
   "outputs": [
    {
     "data": {
      "text/html": [
       "<div>\n",
       "<style scoped>\n",
       "    .dataframe tbody tr th:only-of-type {\n",
       "        vertical-align: middle;\n",
       "    }\n",
       "\n",
       "    .dataframe tbody tr th {\n",
       "        vertical-align: top;\n",
       "    }\n",
       "\n",
       "    .dataframe thead th {\n",
       "        text-align: right;\n",
       "    }\n",
       "</style>\n",
       "<table border=\"1\" class=\"dataframe\">\n",
       "  <thead>\n",
       "    <tr style=\"text-align: right;\">\n",
       "      <th></th>\n",
       "      <th></th>\n",
       "      <th>Numero de Centros</th>\n",
       "    </tr>\n",
       "    <tr>\n",
       "      <th>Concello</th>\n",
       "      <th>Tipo de centro</th>\n",
       "      <th></th>\n",
       "    </tr>\n",
       "  </thead>\n",
       "  <tbody>\n",
       "    <tr>\n",
       "      <th rowspan=\"2\" valign=\"top\">A Baña</th>\n",
       "      <th>CPI</th>\n",
       "      <td>1</td>\n",
       "    </tr>\n",
       "    <tr>\n",
       "      <th>ESMU</th>\n",
       "      <td>1</td>\n",
       "    </tr>\n",
       "    <tr>\n",
       "      <th>A Capela</th>\n",
       "      <th>CEIP</th>\n",
       "      <td>1</td>\n",
       "    </tr>\n",
       "    <tr>\n",
       "      <th rowspan=\"2\" valign=\"top\">A Coruña</th>\n",
       "      <th>CAD</th>\n",
       "      <td>3</td>\n",
       "    </tr>\n",
       "    <tr>\n",
       "      <th>CADF</th>\n",
       "      <td>1</td>\n",
       "    </tr>\n",
       "    <tr>\n",
       "      <th>...</th>\n",
       "      <th>...</th>\n",
       "      <td>...</td>\n",
       "    </tr>\n",
       "    <tr>\n",
       "      <th rowspan=\"2\" valign=\"top\">Vimianzo</th>\n",
       "      <th>EEI</th>\n",
       "      <td>1</td>\n",
       "    </tr>\n",
       "    <tr>\n",
       "      <th>IES</th>\n",
       "      <td>1</td>\n",
       "    </tr>\n",
       "    <tr>\n",
       "      <th rowspan=\"3\" valign=\"top\">Zas</th>\n",
       "      <th>CEIP</th>\n",
       "      <td>1</td>\n",
       "    </tr>\n",
       "    <tr>\n",
       "      <th>CPI</th>\n",
       "      <td>1</td>\n",
       "    </tr>\n",
       "    <tr>\n",
       "      <th>IES</th>\n",
       "      <td>1</td>\n",
       "    </tr>\n",
       "  </tbody>\n",
       "</table>\n",
       "<p>298 rows × 1 columns</p>\n",
       "</div>"
      ],
      "text/plain": [
       "                         Numero de Centros\n",
       "Concello Tipo de centro                   \n",
       "A Baña   CPI                             1\n",
       "         ESMU                            1\n",
       "A Capela CEIP                            1\n",
       "A Coruña CAD                             3\n",
       "         CADF                            1\n",
       "...                                    ...\n",
       "Vimianzo EEI                             1\n",
       "         IES                             1\n",
       "Zas      CEIP                            1\n",
       "         CPI                             1\n",
       "         IES                             1\n",
       "\n",
       "[298 rows x 1 columns]"
      ]
     },
     "execution_count": 209,
     "metadata": {},
     "output_type": "execute_result"
    }
   ],
   "source": [
    "CentrosPorTipo=dfCoruna[['Tipo de centro', 'Concello', 'Nome']]\n",
    "CentrosPorTipo = CentrosPorTipo.groupby(['Concello','Tipo de centro']).count().rename(columns={'Nome':'Numero de Centros'})\n",
    "CentrosPorTipo\n",
    "\n"
   ]
  },
  {
   "cell_type": "markdown",
   "metadata": {},
   "source": [
    "#### Limpando datos con erros: Dime qué podes limpar e como nestes datos."
   ]
  },
  {
   "cell_type": "markdown",
   "metadata": {},
   "source": [
    "Podemos limpar os vacios con por exemplo No Agregado"
   ]
  },
  {
   "cell_type": "code",
   "execution_count": 210,
   "metadata": {},
   "outputs": [
    {
     "data": {
      "text/html": [
       "<div>\n",
       "<style scoped>\n",
       "    .dataframe tbody tr th:only-of-type {\n",
       "        vertical-align: middle;\n",
       "    }\n",
       "\n",
       "    .dataframe tbody tr th {\n",
       "        vertical-align: top;\n",
       "    }\n",
       "\n",
       "    .dataframe thead th {\n",
       "        text-align: right;\n",
       "    }\n",
       "</style>\n",
       "<table border=\"1\" class=\"dataframe\">\n",
       "  <thead>\n",
       "    <tr style=\"text-align: right;\">\n",
       "      <th></th>\n",
       "      <th>Código</th>\n",
       "      <th>Nome</th>\n",
       "      <th>Enderezo</th>\n",
       "      <th>Concello</th>\n",
       "      <th>Provincia</th>\n",
       "      <th>Cód. postal</th>\n",
       "      <th>Teléfono</th>\n",
       "      <th>Tipo de centro</th>\n",
       "      <th>COORDENADA_X</th>\n",
       "      <th>COORDENADA_Y</th>\n",
       "      <th>TITULARIDADE</th>\n",
       "      <th>ENSINO_CONCERTADO</th>\n",
       "      <th>DEPENDENTE</th>\n",
       "    </tr>\n",
       "  </thead>\n",
       "  <tbody>\n",
       "    <tr>\n",
       "      <th>0</th>\n",
       "      <td>15000016</td>\n",
       "      <td>CEIP Plurilingüe San Marcos</td>\n",
       "      <td>Campo da Feira s/n</td>\n",
       "      <td>Abegondo</td>\n",
       "      <td>A Coruña</td>\n",
       "      <td>15318.0</td>\n",
       "      <td>881880201</td>\n",
       "      <td>CEIP</td>\n",
       "      <td>43.229183</td>\n",
       "      <td>-8.286580</td>\n",
       "      <td>Pública</td>\n",
       "      <td>Non</td>\n",
       "      <td>Si</td>\n",
       "    </tr>\n",
       "    <tr>\n",
       "      <th>1</th>\n",
       "      <td>15000107</td>\n",
       "      <td>CEIP A Maía</td>\n",
       "      <td>Rúa Peregrina, s/n (Bertamiráns)</td>\n",
       "      <td>Ames</td>\n",
       "      <td>A Coruña</td>\n",
       "      <td>15220.0</td>\n",
       "      <td>881866002</td>\n",
       "      <td>CEIP</td>\n",
       "      <td>42.867485</td>\n",
       "      <td>-8.657342</td>\n",
       "      <td>Pública</td>\n",
       "      <td>Non</td>\n",
       "      <td>Si</td>\n",
       "    </tr>\n",
       "    <tr>\n",
       "      <th>2</th>\n",
       "      <td>15000132</td>\n",
       "      <td>CPR Plurilingüe Alca</td>\n",
       "      <td>Lugar Biduído de Arriba 36</td>\n",
       "      <td>Ames</td>\n",
       "      <td>A Coruña</td>\n",
       "      <td>15895.0</td>\n",
       "      <td>981531103</td>\n",
       "      <td>CPR</td>\n",
       "      <td>42.846325</td>\n",
       "      <td>-8.600729</td>\n",
       "      <td>Privada</td>\n",
       "      <td>Si</td>\n",
       "      <td>Non</td>\n",
       "    </tr>\n",
       "    <tr>\n",
       "      <th>3</th>\n",
       "      <td>15000338</td>\n",
       "      <td>CPI As Mirandas</td>\n",
       "      <td>Avenida Celso Emilio Ferreiro 4</td>\n",
       "      <td>Ares</td>\n",
       "      <td>A Coruña</td>\n",
       "      <td>15624.0</td>\n",
       "      <td>881930020</td>\n",
       "      <td>CPI</td>\n",
       "      <td>43.429363</td>\n",
       "      <td>-8.246173</td>\n",
       "      <td>Pública</td>\n",
       "      <td>Non</td>\n",
       "      <td>Si</td>\n",
       "    </tr>\n",
       "    <tr>\n",
       "      <th>4</th>\n",
       "      <td>15000363</td>\n",
       "      <td>CEIP Ponte dos Brozos</td>\n",
       "      <td>Avenida Arsenio Iglesias, 34 (Sabon)</td>\n",
       "      <td>Arteixo</td>\n",
       "      <td>A Coruña</td>\n",
       "      <td>15142.0</td>\n",
       "      <td>881960506</td>\n",
       "      <td>CEIP</td>\n",
       "      <td>43.306938</td>\n",
       "      <td>-8.510333</td>\n",
       "      <td>Pública</td>\n",
       "      <td>Non</td>\n",
       "      <td>Si</td>\n",
       "    </tr>\n",
       "    <tr>\n",
       "      <th>...</th>\n",
       "      <td>...</td>\n",
       "      <td>...</td>\n",
       "      <td>...</td>\n",
       "      <td>...</td>\n",
       "      <td>...</td>\n",
       "      <td>...</td>\n",
       "      <td>...</td>\n",
       "      <td>...</td>\n",
       "      <td>...</td>\n",
       "      <td>...</td>\n",
       "      <td>...</td>\n",
       "      <td>...</td>\n",
       "      <td>...</td>\n",
       "    </tr>\n",
       "    <tr>\n",
       "      <th>611</th>\n",
       "      <td>36025189</td>\n",
       "      <td>EMUSPR Escola de Música da Banda Unión Musical...</td>\n",
       "      <td>Lugar Lugar de Covas 14 B</td>\n",
       "      <td>Cerdedo-Cotobade</td>\n",
       "      <td>Pontevedra</td>\n",
       "      <td>36120.0</td>\n",
       "      <td>0</td>\n",
       "      <td>EMUSPR</td>\n",
       "      <td>-13.488744</td>\n",
       "      <td>0.000000</td>\n",
       "      <td>Privada</td>\n",
       "      <td>Non</td>\n",
       "      <td>Non</td>\n",
       "    </tr>\n",
       "    <tr>\n",
       "      <th>612</th>\n",
       "      <td>36025190</td>\n",
       "      <td>EMUSPR Escola da Banda de Música Popular de Tui</td>\n",
       "      <td>Lugar Gándara s/n</td>\n",
       "      <td>Tui</td>\n",
       "      <td>Pontevedra</td>\n",
       "      <td>36720.0</td>\n",
       "      <td>0</td>\n",
       "      <td>EMUSPR</td>\n",
       "      <td>-8.623660</td>\n",
       "      <td>42.076248</td>\n",
       "      <td>Privada</td>\n",
       "      <td>Non</td>\n",
       "      <td>Non</td>\n",
       "    </tr>\n",
       "    <tr>\n",
       "      <th>613</th>\n",
       "      <td>36025207</td>\n",
       "      <td>EMUSPR Escola de Música Lira de San Miguel de Oia</td>\n",
       "      <td>Camiño de Currás 34</td>\n",
       "      <td>Vigo</td>\n",
       "      <td>Pontevedra</td>\n",
       "      <td>36390.0</td>\n",
       "      <td>0</td>\n",
       "      <td>EMUSPR</td>\n",
       "      <td>-13.488744</td>\n",
       "      <td>0.000000</td>\n",
       "      <td>Privada</td>\n",
       "      <td>Non</td>\n",
       "      <td>Non</td>\n",
       "    </tr>\n",
       "    <tr>\n",
       "      <th>614</th>\n",
       "      <td>36025219</td>\n",
       "      <td>Cen. Pub. Escola de Canteiros de Poio</td>\n",
       "      <td>Rúa Illa do Santo 2</td>\n",
       "      <td>Poio</td>\n",
       "      <td>Pontevedra</td>\n",
       "      <td>36005.0</td>\n",
       "      <td>0</td>\n",
       "      <td>Cen. Pub.</td>\n",
       "      <td>-8.663683</td>\n",
       "      <td>42.440247</td>\n",
       "      <td>Pública</td>\n",
       "      <td>Non</td>\n",
       "      <td>Si</td>\n",
       "    </tr>\n",
       "    <tr>\n",
       "      <th>615</th>\n",
       "      <td>36025220</td>\n",
       "      <td>CAD FDYE-Galicia</td>\n",
       "      <td>Avenida das Camelias 53</td>\n",
       "      <td>Vigo</td>\n",
       "      <td>Pontevedra</td>\n",
       "      <td>36211.0</td>\n",
       "      <td>680831166</td>\n",
       "      <td>CAD</td>\n",
       "      <td>-8.729750</td>\n",
       "      <td>42.229722</td>\n",
       "      <td>Privada</td>\n",
       "      <td>Non</td>\n",
       "      <td>Non</td>\n",
       "    </tr>\n",
       "  </tbody>\n",
       "</table>\n",
       "<p>1641 rows × 13 columns</p>\n",
       "</div>"
      ],
      "text/plain": [
       "       Código                                               Nome  \\\n",
       "0    15000016                        CEIP Plurilingüe San Marcos   \n",
       "1    15000107                                        CEIP A Maía   \n",
       "2    15000132                               CPR Plurilingüe Alca   \n",
       "3    15000338                                    CPI As Mirandas   \n",
       "4    15000363                              CEIP Ponte dos Brozos   \n",
       "..        ...                                                ...   \n",
       "611  36025189  EMUSPR Escola de Música da Banda Unión Musical...   \n",
       "612  36025190    EMUSPR Escola da Banda de Música Popular de Tui   \n",
       "613  36025207  EMUSPR Escola de Música Lira de San Miguel de Oia   \n",
       "614  36025219              Cen. Pub. Escola de Canteiros de Poio   \n",
       "615  36025220                                   CAD FDYE-Galicia   \n",
       "\n",
       "                                 Enderezo          Concello   Provincia  \\\n",
       "0                      Campo da Feira s/n          Abegondo    A Coruña   \n",
       "1        Rúa Peregrina, s/n (Bertamiráns)              Ames    A Coruña   \n",
       "2              Lugar Biduído de Arriba 36              Ames    A Coruña   \n",
       "3         Avenida Celso Emilio Ferreiro 4              Ares    A Coruña   \n",
       "4    Avenida Arsenio Iglesias, 34 (Sabon)           Arteixo    A Coruña   \n",
       "..                                    ...               ...         ...   \n",
       "611             Lugar Lugar de Covas 14 B  Cerdedo-Cotobade  Pontevedra   \n",
       "612                     Lugar Gándara s/n               Tui  Pontevedra   \n",
       "613                   Camiño de Currás 34              Vigo  Pontevedra   \n",
       "614                   Rúa Illa do Santo 2              Poio  Pontevedra   \n",
       "615               Avenida das Camelias 53              Vigo  Pontevedra   \n",
       "\n",
       "     Cód. postal   Teléfono Tipo de centro  COORDENADA_X  COORDENADA_Y  \\\n",
       "0        15318.0  881880201           CEIP     43.229183     -8.286580   \n",
       "1        15220.0  881866002           CEIP     42.867485     -8.657342   \n",
       "2        15895.0  981531103            CPR     42.846325     -8.600729   \n",
       "3        15624.0  881930020            CPI     43.429363     -8.246173   \n",
       "4        15142.0  881960506           CEIP     43.306938     -8.510333   \n",
       "..           ...        ...            ...           ...           ...   \n",
       "611      36120.0          0         EMUSPR    -13.488744      0.000000   \n",
       "612      36720.0          0         EMUSPR     -8.623660     42.076248   \n",
       "613      36390.0          0         EMUSPR    -13.488744      0.000000   \n",
       "614      36005.0          0      Cen. Pub.     -8.663683     42.440247   \n",
       "615      36211.0  680831166            CAD     -8.729750     42.229722   \n",
       "\n",
       "    TITULARIDADE ENSINO_CONCERTADO DEPENDENTE  \n",
       "0        Pública               Non         Si  \n",
       "1        Pública               Non         Si  \n",
       "2        Privada                Si        Non  \n",
       "3        Pública               Non         Si  \n",
       "4        Pública               Non         Si  \n",
       "..           ...               ...        ...  \n",
       "611      Privada               Non        Non  \n",
       "612      Privada               Non        Non  \n",
       "613      Privada               Non        Non  \n",
       "614      Pública               Non         Si  \n",
       "615      Privada               Non        Non  \n",
       "\n",
       "[1641 rows x 13 columns]"
      ]
     },
     "execution_count": 210,
     "metadata": {},
     "output_type": "execute_result"
    }
   ],
   "source": [
    "dfTotal=dfTotal.fillna(value=0)\n",
    "dfTotal"
   ]
  },
  {
   "cell_type": "markdown",
   "metadata": {},
   "source": [
    "#### Garda o dataframe total resultante nos seguintes formatos:"
   ]
  },
  {
   "cell_type": "code",
   "execution_count": 211,
   "metadata": {},
   "outputs": [
    {
     "name": "stdout",
     "output_type": "stream",
     "text": [
      "C:\\Users\\david.fernandezrebor\\AppData\\Local\\Temp\\total.csv\n"
     ]
    }
   ],
   "source": [
    "#CSV\n",
    "arquivo_temporal = os.path.join('C:\\\\Users\\\\david.fernandezrebor\\\\AppData\\\\Local\\\\Temp\\\\total.csv')\n",
    "dfTotal.to_csv(arquivo_temporal)\n",
    "print(arquivo_temporal)\n"
   ]
  },
  {
   "cell_type": "code",
   "execution_count": 212,
   "metadata": {},
   "outputs": [
    {
     "name": "stdout",
     "output_type": "stream",
     "text": [
      "C:\\Users\\david.fernandezrebor\\AppData\\Local\\Temp\\totalexcel.xlsx\n"
     ]
    }
   ],
   "source": [
    "#EXCEL debemos hacer conda install  openpyxl\n",
    "arquivo_temporal = os.path.join('C:\\\\Users\\\\david.fernandezrebor\\\\AppData\\\\Local\\\\Temp\\\\totalexcel.xlsx')\n",
    "dfTotal.to_excel(arquivo_temporal)\n",
    "print(arquivo_temporal)\n"
   ]
  },
  {
   "cell_type": "code",
   "execution_count": 213,
   "metadata": {},
   "outputs": [
    {
     "name": "stdout",
     "output_type": "stream",
     "text": [
      "C:\\Users\\david.fernandezrebor\\AppData\\Local\\Temp\\totaljson.json\n"
     ]
    }
   ],
   "source": [
    "#JSON\n",
    "arquivo_temporal = os.path.join('C:\\\\Users\\\\david.fernandezrebor\\\\AppData\\\\Local\\\\Temp\\\\totaljson.json')\n",
    "dfTotal=dfTotal.reset_index(drop=True)\n",
    "dfTotal.to_json(arquivo_temporal)\n",
    "print(arquivo_temporal)\n"
   ]
  },
  {
   "cell_type": "code",
   "execution_count": 214,
   "metadata": {},
   "outputs": [
    {
     "name": "stdout",
     "output_type": "stream",
     "text": [
      "C:\\Users\\david.fernandezrebor\\AppData\\Local\\Temp\\totalxml.xml\n"
     ]
    }
   ],
   "source": [
    "#XML\n",
    "arquivo_temporal = os.path.join('C:\\\\Users\\\\david.fernandezrebor\\\\AppData\\\\Local\\\\Temp\\\\totalxml.xml')\n",
    "dfTotal = dfTotal.rename(columns={'Cód. postal': 'CodPostal'})\n",
    "dfTotal = dfTotal.rename(columns={'Tipo de centro': 'TipoDeCentro'})\n",
    "dfTotal.to_xml(arquivo_temporal)\n",
    "print(arquivo_temporal)\n"
   ]
  },
  {
   "cell_type": "code",
   "execution_count": 216,
   "metadata": {},
   "outputs": [
    {
     "name": "stdout",
     "output_type": "stream",
     "text": [
      "C:\\Users\\david.fernandezrebor\\AppData\\Local\\Temp\\totalparquet.parquet\n"
     ]
    }
   ],
   "source": [
    "#PARQUET instalar conda install -c conda-forge fastparquet\n",
    "arquivo_temporal = os.path.join('C:\\\\Users\\\\david.fernandezrebor\\\\AppData\\\\Local\\\\Temp\\\\totalparquet.parquet')\n",
    "dfTotal['Teléfono'] = dfTotal['Teléfono'].astype(str)\n",
    "dfTotal.to_parquet(arquivo_temporal)\n",
    "print(arquivo_temporal)"
   ]
  },
  {
   "cell_type": "markdown",
   "metadata": {},
   "source": [
    "Finalmente teremos descargados nos distintos formatos "
   ]
  },
  {
   "cell_type": "markdown",
   "metadata": {},
   "source": [
    "<image src=\"image.png\" alt=\"Descripción de la imagen\">\n"
   ]
  },
  {
   "cell_type": "markdown",
   "metadata": {},
   "source": [
    "David Fernández Reboredo"
   ]
  }
 ],
 "metadata": {
  "kernelspec": {
   "display_name": "bigdata",
   "language": "python",
   "name": "python3"
  },
  "language_info": {
   "codemirror_mode": {
    "name": "ipython",
    "version": 3
   },
   "file_extension": ".py",
   "mimetype": "text/x-python",
   "name": "python",
   "nbconvert_exporter": "python",
   "pygments_lexer": "ipython3",
   "version": "3.8.18"
  }
 },
 "nbformat": 4,
 "nbformat_minor": 2
}
