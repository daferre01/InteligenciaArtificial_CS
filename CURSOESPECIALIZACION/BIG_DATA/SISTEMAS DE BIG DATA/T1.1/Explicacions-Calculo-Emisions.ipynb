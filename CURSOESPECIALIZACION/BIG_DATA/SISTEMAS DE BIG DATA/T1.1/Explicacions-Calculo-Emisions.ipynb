{
 "cells": [
  {
   "cell_type": "markdown",
   "id": "5fa0d4c4-73d9-4d96-b035-23e320ef2d0f",
   "metadata": {},
   "source": [
    "# Calculo De Emisions"
   ]
  },
  {
   "cell_type": "markdown",
   "id": "4858804d-0e37-4ce0-ad09-6a6f343c3630",
   "metadata": {},
   "source": [
    "Vai calcular a emision de co2 na atmosfera"
   ]
  },
  {
   "cell_type": "code",
   "execution_count": 15,
   "id": "7238180d-9078-4c2b-bc79-b2734be5db74",
   "metadata": {},
   "outputs": [
    {
     "name": "stdout",
     "output_type": "stream",
     "text": [
      "O teu consumo en: 27030 gC02\n"
     ]
    }
   ],
   "source": [
    "#!/usr/bin/env python\n",
    "\n",
    "# Cálculo de emisións\n",
    "\n",
    "# Variables\n",
    "KMS_DIARIOS = 0\n",
    "DIAS_LABORAIS_SEMANAIS = 0\n",
    "SEMANAS = 0\n",
    "\n",
    "# Cada medio de transporte ten o seu índice de emisións medio (gramos por km)\n",
    "# https://www.movilidad-idae.es/destacados/emisiones-de-co2-por-modos-de-transporte-motorizado\n",
    "EMISION_X_KM_MOTOELEC = 121\n",
    "\n",
    "cantidade_de_emisions = KMS_DIARIOS * DIAS_LABORAIS_SEMANAIS * SEMANAS * EMISION_X_KM_MOTOELEC\n",
    "print('O teu consumo en:', cantidade_de_emisions, 'gC02')\n"
   ]
  },
  {
   "cell_type": "code",
   "execution_count": null,
   "id": "87376f0b-b536-48b2-bce3-ad82747019fc",
   "metadata": {},
   "outputs": [],
   "source": [
    "#!/usr/bin/env python\n",
    "\n",
    "# Cálculo de emisións\n",
    "\n",
    "# Variables\n",
    "KMS_DIARIOS = 100\n",
    "DIAS_LABORAIS_SEMANAIS = 5\n",
    "SEMANAS = 48\n",
    "\n",
    "# Cada medio de transporte ten o seu índice de emisións medio (gramos por km)\n",
    "# https://www.movilidad-idae.es/destacados/emisiones-de-co2-por-modos-de-transporte-motorizado\n",
    "EMISION_X_KM_MOTOELEC = 121\n",
    "\n",
    "cantidade_de_emisions = KMS_DIARIOS * DIAS_LABORAIS_SEMANAIS * SEMANAS * EMISION_X_KM_MOTOELEC\n",
    "print('O teu consumo en:', cantidade_de_emisions, 'gC02')\n"
   ]
  },
  {
   "cell_type": "code",
   "execution_count": null,
   "id": "b43eaf86-12f5-47d1-b2ad-abe59c74eddb",
   "metadata": {},
   "outputs": [],
   "source": [
    "#!/usr/bin/env python\n",
    "\n",
    "# Cálculo de emisións\n",
    "\n",
    "# Variables\n",
    "KMS_DIARIOS = 20\n",
    "DIAS_LABORAIS_SEMANAIS = 3\n",
    "SEMANAS = 40\n",
    "\n",
    "# Cada medio de transporte ten o seu índice de emisións medio (gramos por km)\n",
    "# https://www.movilidad-idae.es/destacados/emisiones-de-co2-por-modos-de-transporte-motorizado\n",
    "EMISION_X_KM_MOTOELEC = 53\n",
    "\n",
    "cantidade_de_emisions = KMS_DIARIOS * DIAS_LABORAIS_SEMANAIS * SEMANAS * EMISION_X_KM_MOTOELEC\n",
    "print('O teu consumo en:', cantidade_de_emisions, 'gC02')\n"
   ]
  },
  {
   "cell_type": "code",
   "execution_count": null,
   "id": "e0743788-252b-40f8-8ed8-d5ac0aabb902",
   "metadata": {},
   "outputs": [],
   "source": [
    "#!/usr/bin/env python\n",
    "\n",
    "# Cálculo de emisións\n",
    "\n",
    "# Variables\n",
    "KMS_DIARIOS = 6\n",
    "DIAS_LABORAIS_SEMANAIS = 5\n",
    "SEMANAS = 24\n",
    "\n",
    "# Cada medio de transporte ten o seu índice de emisións medio (gramos por km)\n",
    "# https://www.movilidad-idae.es/destacados/emisiones-de-co2-por-modos-de-transporte-motorizado\n",
    "EMISION_X_KM_MOTOELEC = 49\n",
    "\n",
    "cantidade_de_emisions = KMS_DIARIOS * DIAS_LABORAIS_SEMANAIS * SEMANAS * EMISION_X_KM_MOTOELEC\n",
    "print('O teu consumo en:', cantidade_de_emisions, 'gC02')\n"
   ]
  },
  {
   "cell_type": "code",
   "execution_count": 24,
   "id": "225b0aec-370e-4d3a-9bd6-96064ecfce71",
   "metadata": {
    "tags": []
   },
   "outputs": [
    {
     "name": "stdout",
     "output_type": "stream",
     "text": [
      "O teu consumo en: 408000 gC02\n",
      "O teu consumo en: 72000 gC02\n",
      "A resta e 336000 gC02 de diferencia\n"
     ]
    }
   ],
   "source": [
    "#!/usr/bin/env python\n",
    "\n",
    "def emision(emision):\n",
    "    KMS_DIARIOS = 100\n",
    "    DIAS_LABORAIS_SEMANAIS = 5\n",
    "    SEMANAS = 48\n",
    "    cantidade_de_emisions = KMS_DIARIOS * DIAS_LABORAIS_SEMANAIS * SEMANAS * emision\n",
    "    print('O teu consumo en:', cantidade_de_emisions, 'gC02')\n",
    "    return cantidade_de_emisions\n",
    "def resta(emision1,emision2):\n",
    "    if(emision1>emision2):\n",
    "        print('A resta e',emision1-emision2,'gC02 de diferencia')\n",
    "    else: \n",
    "        print('A resta e',emision2-emision1,'gC02 de diferencia')\n",
    "# Cada medio de transporte ten o seu índice de emisións medio (gramos por km)\n",
    "# https://www.movilidad-idae.es/destacados/emisiones-de-co2-por-modos-de-transporte-motorizado\n",
    "EMISION_X_KM_MOTOELEC = 17\n",
    "totalmoto=emision(EMISION_X_KM_MOTOELEC)\n",
    "EMISION_X_KM_BICIELEC = 3\n",
    "totalbici=emision(EMISION_X_KM_BICIELEC)\n",
    "resta(totalbici,totalmoto)\n",
    "\n",
    "\n",
    "\n",
    "\n"
   ]
  },
  {
   "cell_type": "code",
   "execution_count": null,
   "id": "a846012a-3013-4de8-801f-e56481e9a7e2",
   "metadata": {},
   "outputs": [],
   "source": []
  }
 ],
 "metadata": {
  "kernelspec": {
   "display_name": "Python 3 (ipykernel)",
   "language": "python",
   "name": "python3"
  },
  "language_info": {
   "codemirror_mode": {
    "name": "ipython",
    "version": 3
   },
   "file_extension": ".py",
   "mimetype": "text/x-python",
   "name": "python",
   "nbconvert_exporter": "python",
   "pygments_lexer": "ipython3",
   "version": "3.8.18"
  }
 },
 "nbformat": 4,
 "nbformat_minor": 5
}
