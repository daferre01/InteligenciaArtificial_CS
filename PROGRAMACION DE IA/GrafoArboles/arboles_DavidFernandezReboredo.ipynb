{
 "cells": [
  {
   "cell_type": "code",
   "execution_count": 8,
   "metadata": {},
   "outputs": [
    {
     "name": "stdout",
     "output_type": "stream",
     "text": [
      "Cedro\n"
     ]
    }
   ],
   "source": [
    "# clases para tratar con un árbol binario\n",
    "class Nodo:\n",
    "  def __init__(self, datos):\n",
    "    self.si = None\n",
    "    self.no = None\n",
    "    self.datos = datos\n",
    "  def elegir(self,nodo):  \n",
    "    if nodo.si == None and nodo.no == None:\n",
    "      print(nodo.datos)\n",
    "      return\n",
    "    pregunta= nodo.datos\n",
    "    respuesta = input(pregunta + ': ')\n",
    "    if respuesta == 'si':\n",
    "      self.elegir(nodo.si)\n",
    "    elif respuesta=='no':\n",
    "      self.elegir(nodo.no)\n",
    "\n",
    "\n",
    "raiz= Nodo(\"Agujas\")\n",
    "raiz.si = Nodo(\"Largas\")\n",
    "raiz.si.si=Nodo(\"Pinos\")\n",
    "raiz.si.no=Nodo(\"En grupos\")\n",
    "raiz.si.no.si=Nodo(\"Cedro\")\n",
    "raiz.si.no.no= Nodo(\"Abeto\")\n",
    "raiz.no=Nodo(\"Ni Escamosas ni inbricadas\")\n",
    "raiz.no.no=Nodo(\"Cipres\")\n",
    "raiz.no.si=Nodo(\"Compuestas\")\n",
    "raiz.no.si.si=Nodo(\"Hojas Palmado Compuestas\")\n",
    "raiz.no.si.si.si= Nodo(\"CastañodeIndias\")\n",
    "raiz.no.si.si.no=Nodo(\"Legumbre\")\n",
    "raiz.no.si.si.no.si= Nodo(\"Falsa Acacia\")\n",
    "raiz.no.si.si.no.no= Nodo(\"Fresno\")\n",
    "raiz.no.si.no=Nodo(\"Duras\")\n",
    "raiz.no.si.no.si=Nodo(\"Beyota\")\n",
    "raiz.no.si.no.si.si=Nodo(\"Encina\")\n",
    "raiz.no.si.no.si.no=Nodo(\"Madroño\")\n",
    "raiz.no.si.no.no=Nodo(\"Peninervia\")\n",
    "raiz.no.si.no.no.si=Nodo(\"2 Veces mas larga que ancha\")\n",
    "raiz.no.si.no.no.si.si=Nodo(\"Sauce llorón\")\n",
    "raiz.no.si.no.no.si.no=Nodo(\"Borde inferior asimetrico ovalada aserrado\")\n",
    "raiz.no.si.no.no.si.no.si=Nodo(\"Olmo\")\n",
    "raiz.no.si.no.no.si.no.si=Nodo(\"Chopo\")\n",
    "raiz.no.si.no.no.no=Nodo(\"Fruto con dos alas que forman un angulo\")\n",
    "raiz.no.si.no.no.no.si=Nodo(\"Arce\")\n",
    "raiz.no.si.no.no.no.no=Nodo(\"Platano de sombra\")\n",
    "\n",
    "raiz.elegir(raiz)\n"
   ]
  },
  {
   "cell_type": "code",
   "execution_count": null,
   "metadata": {},
   "outputs": [],
   "source": [
    "\n",
    "        "
   ]
  }
 ],
 "metadata": {
  "kernelspec": {
   "display_name": "ia",
   "language": "python",
   "name": "python3"
  },
  "language_info": {
   "codemirror_mode": {
    "name": "ipython",
    "version": 3
   },
   "file_extension": ".py",
   "mimetype": "text/x-python",
   "name": "python",
   "nbconvert_exporter": "python",
   "pygments_lexer": "ipython3",
   "version": "3.8.18"
  }
 },
 "nbformat": 4,
 "nbformat_minor": 2
}
